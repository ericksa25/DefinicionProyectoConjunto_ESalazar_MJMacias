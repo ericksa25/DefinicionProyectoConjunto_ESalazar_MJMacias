{
 "cells": [
  {
   "cell_type": "markdown",
   "metadata": {},
   "source": [
    "<img style=\"float: left; margin: 30px 15px 15px 15px;\" src=\"https://pngimage.net/wp-content/uploads/2018/06/logo-iteso-png-5.png\" width=\"300\" height=\"500\" /> \n",
    "    \n",
    "    \n",
    "## <font color='navy'> SIMULACIÓN DE PROCESOS FINANCIEROS   \n",
    "\n",
    "**Nombres:** \n",
    "María José Macías García y Erick Salazar Hernández \n",
    "\n",
    "**Fecha:** 14 de abril del 2020.\n",
    "\n",
    "**Expediente** : 717922 y 714391.\n",
    "\n",
    "**Profesor:** Oscar David Jaramillo Zuluaga.\n",
    "\n",
    "**Enlace Github:** https://github.com/ericksa25/DefinicionProyectoConjunto_ESalazar_MJMacias\n",
    "\n",
    "## Definición de Proyecto  Clase: 12"
   ]
  },
  {
   "cell_type": "markdown",
   "metadata": {},
   "source": [
    "# <font color='seagreen'>\"Simulación de Casos de COVID-19 en México dentro de tres meses\""
   ]
  },
  {
   "cell_type": "markdown",
   "metadata": {},
   "source": [
    "## <font color='darkcyan'> OBJETIVOS\n",
    "- Poder concientizar, desarrollar y simular la situación de la pandemia mundial, con un enfoque en un determinado país, en este caso México, además, saber el poco o gran impacto que tiene la población para poder combatir el virus COVID-19 mediante acciones como lo son el aislamiento social, uso de cubrebocas, higiene personal entre otros.\n",
    "- Las principales variables a usar son Tasa de contagios, Tasa de recuperados y Tasa de muertes.\n",
    " \n",
    " ###  <font color='darkcyan'>Objetivo general\n",
    " >- Simular escenarios con ayuda de datos reales y poder comparar si estos convergen o se comportan de alguna manera similar a la realidad y analizar el impacto que tienen los diferentes escenarios.\n",
    " \n",
    " ### <font color='darkcyan'>Objetivos específicos\n",
    " >- Mostrar un escenario donde México, en los próximos 3 meses, sigue las recomendaciones de las autoridades de quedarse en casa.\n",
    " - Mostrar otro escenario donde México en los próximos 3 meses, no sigue las indicaciones de autoridades, por lo tanto, siguen exponiéndose saliendo de sus casas. \n",
    " - Comparar ambos escenarios previamente mencionados y poder mostrar el impacto que tienen cada uno. "
   ]
  },
  {
   "cell_type": "markdown",
   "metadata": {},
   "source": [
    "## <font color='darkcyan'>DEFINICIÓN DEL PROBLEMA\n",
    "\n",
    "<img style=\"float: right; margin: 10px 10px 15px 15px;\" src=\"https://www.isglobal.org/documents/10179/7759027/Coronavirus+SARS-CoV-2+de+CDC+en+Unsplash/6e5e7633-4ed9-484b-a95f-34195e55e142?t=1584534061000\" width=\"350px\" height=\"700px\" />\n",
    "\n",
    "Vivimos en un mundo globalizado donde las decisiones que se toman en el ámbito político, económico y social, no son excluyentes del impacto que pueden causar en nuestra sociedad, desde decisiones políticas en Estados Unidos hasta manifestaciones en Chile, el impacto que esto genera a otros países es mas grande de lo que podemos pensar. \n",
    "\n",
    "Actualmente estamos pasando por una crisis de salud a nivel mundial, esto se debe a que a finales del 2019 se comenzó a propagar un virus que hoy en día es conocido como Coronavirus COVID-19. Este virus tuvo su origen en la ciudad de Wuhan, Hubei, China por razones que aun no logran ser confirmadas pero el *murciélago grande de herradura chino* es el sospechoso número uno de ser el origen del brote de coronavirus.\n",
    "\n",
    "<img style=\"float: left; margin: 15px 15px 15px 15px;\" src=\"https://ichef.bbci.co.uk/news/660/cpsprodpb/11A8A/production/_110803327_1-1.jpg\" width=\"350px\" height=\"700px\" />\n",
    "\n",
    "Estos animales ya habían sido el origen de otras epidemias de coronavirus, en este caso todo apunta que ellos son los causantes de la transmisión del *Sindrome Agudo Respiratorio Severo* **SARS**, con 417.000 casos de personas infectadas y más de 18.700 muertes en 185 países.\n",
    "\n",
    "Nuestras simulaciones se van a basar en los datos obtenidos de la página oficial de la Organización Mundial de la Salud (*OMS*) https://www.who.int/emergencies/diseases/novel-coronavirus-2019/situation-reports/, donde publican día a día los nuevos casos y las muertes registradas por este virus de cada país, pero nosotros solo basándonos en la información que hay de México.\n",
    "\n",
    "La página que tomaremos como principal fuente de información y nos sera de gran ayuda es la página oficial del gobierno de México donde la Secretaría de Salud Federal, a través de la Dirección General de Epidemiología emite el informe técnico referente a Coronavirus; incluye documentos como el Comunicado Técnico Diario de los casos de COVID-19, la Tabla de casos sospechosos y la Tabla de casos positivos de COVID-19 (https://www.gob.mx/salud/documentos/coronavirus-covid-19-comunicado-tecnico-diario-238449).\n",
    "\n",
    "\n",
    "**Referencias:** https://www.bbc.com/mundo/noticias-51408771"
   ]
  },
  {
   "cell_type": "markdown",
   "metadata": {},
   "source": [
    "## <font color='darkcyan'>DIAGRAMA"
   ]
  },
  {
   "cell_type": "code",
   "execution_count": 1,
   "metadata": {},
   "outputs": [
    {
     "data": {
      "image/png": "[encoded data removed]",
      "text/plain": [
       "<IPython.core.display.Image object>"
      ]
     },
     "execution_count": 1,
     "metadata": {},
     "output_type": "execute_result"
    }
   ],
   "source": [
    "from IPython.display import Image\n",
    "Image(filename='INICIO.png')"
   ]
  },
  {
   "cell_type": "markdown",
   "metadata": {},
   "source": [
    "## <font color='darkcyan'> NODOS Y VARIABLES \n",
    "\n",
    " ### <font color='darkcyan'> Nodos\n",
    "> En este apartado el objetivo es identificar los problemas que se van a abordar, para examinar la factibilidad y viabilidad de la simulación de los nodos escogidos. Posteriormente se debe de argumentar del porqué de los nodos escogidos.\n",
    "> - **Graficar casos  confirmados en México hasta 13 de abril**\n",
    ">\n",
    ">    \n",
    "> - **Graficar casos sospechosos en México hasta 13 de abril**\n",
    ">\n",
    ">\n",
    "> - **Simulación de una sociedad mexicana siguiendo el aislamiento social e indicaciones de las autoridades:** En esta parte se tiene como objetivo ver el gran impacto que tiene la población para la ayuda de la disminución de la propagación del virus, algunos de los problemas que pueden surgir al momento de la simulación es el cambio de variable continuo que hay día a día sobre la propagación del virus, a pesar de algunos de los problemas existen es importante simular como la sociedad mexicana puede tener un gran impacto para contrarrestar la curva exponencial sobre los casos de COVID-19.\n",
    ">\n",
    ">\n",
    "> - **Simulación de una sociedad mexicana sin seguir el aislamiento ni indicaciones de las autoridades:** Al igual que la parte anterior la población y sus actividades tienen un papel importante en el crecimiento del virus, ya que si las personas continúan sin tomar medidas adecuadas la propagación del virus aumentara drásticamente, por otra parte el problema que se tiene sobre la simulación es el cambio de cada día de la tasa de propagación, pero es importante hacer saber a la población de como se esta propagando el virus debido a la falta de ayuda, además de la gran diferencia que existiría entre no tomar las medidas de higiene adecuadas y tomarlas.\n",
    "\n",
    " ### <font color='darkcyan'> Varibles\n",
    ">- Una de las variables utilizada es la **Tasa de contagios**, es la mas importante a la hora de medir la propagación del virus porque gracias a esto se puede tener una visión sobre la magnitud del contagio y su propagación.\n",
    "- **Tasa de recuperados** esta tasa puede dar un panorama mas amplio de como el virus puede ir disminuyendo gracias a la recuperación de los afectados.\n",
    "- **Tasa de muertos** es una de las mas importantes ya que se utiliza para medir que tan mortal es el virus y como afecta a sus habitantes, además proporcionar información sobre que sector de la población es el mas afectado en cuanto a muertes."
   ]
  },
  {
   "cell_type": "markdown",
   "metadata": {},
   "source": [
    "## <font color='darkcyan'>HIPÓTESIS\n",
    "\n",
    "* En tres meses habra menos casos de COVID-19 en México si se siguen las recomendaciones de los sistemas de salud, como el aislamiento social.\n",
    "* La curva de casos de COVID-19 sera exponencial si no se siguen las indicaciones por parte de las autoridades."
   ]
  },
  {
   "cell_type": "markdown",
   "metadata": {},
   "source": [
    "## <font color='darkcyan'>SUPUESTOS\n",
    "\n",
    "* No existe cura para este tipo de enfermedad, solamente existen formas de disminuir la propagación, una de esas es el aislamiento y mantener distancia social.\n",
    "* Si la gente sigue las recomendaciones habra menos casos de COVID-19, por ende, el número de personas recuperadas y muertos sera menor.\n",
    "* El contagio se produce por cercanía entre personas de manera que cuando un enfermo y un sano están suficientemente cerca, menos de 1 metro de distancia,el sano se contagia con toda seguridad"
   ]
  },
  {
   "cell_type": "markdown",
   "metadata": {},
   "source": [
    "## <font color='darkcyan'>OBTENCIÓN DE DATOS\n",
    "- Se toma como principal fuente de datos la página oficial del Gobierno de México donde emiten el Comunicado Técnico Diario del Coronavirus (COVID-19).\n",
    "- https://www.gob.mx/salud/documentos/coronavirus-covid-19-comunicado-tecnico-diario-238449\n",
    "- Otra fuente de datos es \"Coronavirus disease (COVID-2019) situation reports\" de la Organización mundial de la salud (OMS), donde solo tomamos los datos correspondientes a México.\n",
    "- Por ahora sabemos que el comportamiento de la propagación de una pandemia es de forma exponencial conforme pasa el tiempo, esto se puede observar gráficamente en países que ya están en un estado alarmante de propagación de pandemia como es el caso de España e Italia.\n",
    "- https://www.who.int/emergencies/diseases/novel-coronavirus-2019/situation-reports/\n",
    "\n"
   ]
  },
  {
   "cell_type": "markdown",
   "metadata": {},
   "source": [
    "## <font color='darkcyan'>VISUALIZACIÓN DE RESULTADOS DE SIMULACIÓN"
   ]
  },
  {
   "cell_type": "markdown",
   "metadata": {},
   "source": [
    "### Hipotesis\n",
    "* La curva de casos de COVID-19 sera exponencial si no se siguen las indicaciones por parte de las autoridades.\n",
    "\n",
    "Como podemos observar el aumento de casos positivos va en aumento debido al alto nivel de contagio ademas de la suma que se genera del numero de contagiados.\n"
   ]
  },
  {
   "cell_type": "code",
   "execution_count": null,
   "metadata": {},
   "outputs": [],
   "source": []
  },
  {
   "cell_type": "markdown",
   "metadata": {},
   "source": []
  },
  {
   "cell_type": "code",
   "execution_count": null,
   "metadata": {},
   "outputs": [],
   "source": []
  },
  {
   "cell_type": "markdown",
   "metadata": {},
   "source": []
  },
  {
   "cell_type": "markdown",
   "metadata": {},
   "source": [
    "## Puntos\n",
    "**Concluir graficas, prueba de hipotesis que vamos hacer, que es lo que queremos comprobar **\n",
    "- Despues del codigo \n",
    "- Utilizar el kernel para cada uno de los nodos \n",
    "\n",
    "\n",
    "**Validar las hipotesis que tenemos:**\n",
    "- En tres meses habra menos casos de COVID-19 en México si se siguen las recomendaciones de los sistemas de salud, como el aislamiento social.\n",
    "- La curva de casos de COVID-19 sera exponencial si no se siguen las indicaciones por parte de las autoridades.\n",
    "\n",
    "explicar que sucede en la simulacion de la hipotesis\n",
    "\n",
    "- **Ser específico en los datos que se van a analizar**, Confirmados de coronavirus, sospechosos\n",
    "- hacer un histograma de confirmados de coronavirus, sospechosos \n",
    "\n",
    "- Utilizar metodo de aceptacion y rechazo para generar variables aleatorias que siguan la misma distribución, es lo que queremos hacer **(62:00)**\n",
    "\n",
    "- Lo que **quiere el profesor** es utilizar los kernels, que nos muestre una función, con esa función utilizamos el metodo de aceptacion y rechazo, con el metodo de aceptación y rechazo generar variables aleatorias que distribuyan segun el kernel que nosotros tengamos  **(67:00) checar código**\n"
   ]
  },
  {
   "cell_type": "markdown",
   "metadata": {},
   "source": [
    "## Comentarios: \n",
    "- Como nuestro ejemplo es para 3 meses y todavia no llegamos a esa fecha, necesitamos simular el escenario en otro país puede ser China, y ver como se comporta\n",
    "- Al momento de terminar los 4 nodos tenemos que utilizar y compararlo con nuestro objetivo \n",
    "- No olvidar utilizar la **clase 19** en el proyecto"
   ]
  },
  {
   "cell_type": "code",
   "execution_count": null,
   "metadata": {},
   "outputs": [],
   "source": []
  },
  {
   "cell_type": "code",
   "execution_count": null,
   "metadata": {},
   "outputs": [],
   "source": []
  },
  {
   "cell_type": "code",
   "execution_count": null,
   "metadata": {},
   "outputs": [],
   "source": []
  },
  {
   "cell_type": "code",
   "execution_count": null,
   "metadata": {},
   "outputs": [],
   "source": []
  },
  {
   "cell_type": "code",
   "execution_count": null,
   "metadata": {},
   "outputs": [],
   "source": []
  },
  {
   "cell_type": "code",
   "execution_count": null,
   "metadata": {},
   "outputs": [],
   "source": []
  },
  {
   "cell_type": "code",
   "execution_count": null,
   "metadata": {},
   "outputs": [],
   "source": []
  },
  {
   "cell_type": "code",
   "execution_count": 2,
   "metadata": {},
   "outputs": [],
   "source": [
    "import numpy as np\n",
    "import matplotlib.pyplot as plt\n",
    "from itertools import cycle  # Librería para hacer ciclos\n",
    "import matplotlib.pyplot as plt\n",
    "import scipy.stats as st     # Librería estadística\n",
    "import pandas as pd\n",
    "from JSAnimation.IPython_display import anim_to_html\n",
    "from sklearn.neighbors import KernelDensity\n",
    "from scipy.stats import gaussian_kde\n",
    "from statsmodels.nonparametric.kde import KDEUnivariate\n",
    "from statsmodels.nonparametric.kernel_density import KDEMultivariate\n",
    "from scipy import optimize\n",
    "from scipy.stats import beta"
   ]
  },
  {
   "cell_type": "markdown",
   "metadata": {},
   "source": [
    "# Analizar datos casos confirmados y casos sospechosos en México"
   ]
  },
  {
   "cell_type": "markdown",
   "metadata": {},
   "source": [
    "## Datos casos confirmados en México"
   ]
  },
  {
   "cell_type": "code",
   "execution_count": 3,
   "metadata": {},
   "outputs": [
    {
     "data": {
      "text/html": [
       "<div>\n",
       "<style scoped>\n",
       "    .dataframe tbody tr th:only-of-type {\n",
       "        vertical-align: middle;\n",
       "    }\n",
       "\n",
       "    .dataframe tbody tr th {\n",
       "        vertical-align: top;\n",
       "    }\n",
       "\n",
       "    .dataframe thead th {\n",
       "        text-align: right;\n",
       "    }\n",
       "</style>\n",
       "<table border=\"1\" class=\"dataframe\">\n",
       "  <thead>\n",
       "    <tr style=\"text-align: right;\">\n",
       "      <th></th>\n",
       "      <th>N° Caso</th>\n",
       "      <th>Fecha de Inicio de síntomas</th>\n",
       "      <th>Fecha de Inicio en numero</th>\n",
       "    </tr>\n",
       "  </thead>\n",
       "  <tbody>\n",
       "    <tr>\n",
       "      <td>0</td>\n",
       "      <td>1</td>\n",
       "      <td>2020-02-17</td>\n",
       "      <td>43878.0</td>\n",
       "    </tr>\n",
       "    <tr>\n",
       "      <td>1</td>\n",
       "      <td>2</td>\n",
       "      <td>2020-02-17</td>\n",
       "      <td>43878.0</td>\n",
       "    </tr>\n",
       "    <tr>\n",
       "      <td>2</td>\n",
       "      <td>3</td>\n",
       "      <td>2020-02-19</td>\n",
       "      <td>43880.0</td>\n",
       "    </tr>\n",
       "    <tr>\n",
       "      <td>3</td>\n",
       "      <td>4</td>\n",
       "      <td>2020-02-19</td>\n",
       "      <td>43880.0</td>\n",
       "    </tr>\n",
       "    <tr>\n",
       "      <td>4</td>\n",
       "      <td>5</td>\n",
       "      <td>2020-02-21</td>\n",
       "      <td>43882.0</td>\n",
       "    </tr>\n",
       "  </tbody>\n",
       "</table>\n",
       "</div>"
      ],
      "text/plain": [
       "  N° Caso Fecha de Inicio de síntomas  Fecha de Inicio en numero\n",
       "0       1                  2020-02-17                    43878.0\n",
       "1       2                  2020-02-17                    43878.0\n",
       "2       3                  2020-02-19                    43880.0\n",
       "3       4                  2020-02-19                    43880.0\n",
       "4       5                  2020-02-21                    43882.0"
      ]
     },
     "execution_count": 3,
     "metadata": {},
     "output_type": "execute_result"
    }
   ],
   "source": [
    "dataCP = pd.read_excel('..\\DefinicionProyectoConjunto_ESalazar_MJMacias\\CasosPositivosCOVID.xlsx')\n",
    "#dataCP = pd.read_excel('/Users/ericksalazar/Desktop/Coronavirus_datos/Casos_positivos_COVID-19.xlsx')\n",
    "dataCP.head()"
   ]
  },
  {
   "cell_type": "code",
   "execution_count": 4,
   "metadata": {},
   "outputs": [],
   "source": [
    "\n",
    "#dataCP=dataCP.drop(columns=['Estado','Sexo','Edad','Identificación de COVID- 19 por RT-PCR en tiempo real'],axis=1)\n",
    "#dataCP = dataCP.drop([5014,5015], axis=0)\n",
    "#dataCP=dataCP.sort_values(['Fecha de Inicio de síntomas']) #ordenar fechas\n",
    "#dataCP.head()\n"
   ]
  },
  {
   "cell_type": "code",
   "execution_count": 5,
   "metadata": {},
   "outputs": [
    {
     "data": {
      "text/html": [
       "<div>\n",
       "<style scoped>\n",
       "    .dataframe tbody tr th:only-of-type {\n",
       "        vertical-align: middle;\n",
       "    }\n",
       "\n",
       "    .dataframe tbody tr th {\n",
       "        vertical-align: top;\n",
       "    }\n",
       "\n",
       "    .dataframe thead th {\n",
       "        text-align: right;\n",
       "    }\n",
       "</style>\n",
       "<table border=\"1\" class=\"dataframe\">\n",
       "  <thead>\n",
       "    <tr style=\"text-align: right;\">\n",
       "      <th></th>\n",
       "      <th>N° Caso</th>\n",
       "      <th>Fecha de Inicio de síntomas</th>\n",
       "      <th>Fecha de Inicio en numero</th>\n",
       "      <th>Mes</th>\n",
       "    </tr>\n",
       "  </thead>\n",
       "  <tbody>\n",
       "    <tr>\n",
       "      <td>0</td>\n",
       "      <td>1</td>\n",
       "      <td>2020-02-17</td>\n",
       "      <td>43878.0</td>\n",
       "      <td>2.0</td>\n",
       "    </tr>\n",
       "    <tr>\n",
       "      <td>1</td>\n",
       "      <td>2</td>\n",
       "      <td>2020-02-17</td>\n",
       "      <td>43878.0</td>\n",
       "      <td>2.0</td>\n",
       "    </tr>\n",
       "    <tr>\n",
       "      <td>2</td>\n",
       "      <td>3</td>\n",
       "      <td>2020-02-19</td>\n",
       "      <td>43880.0</td>\n",
       "      <td>2.0</td>\n",
       "    </tr>\n",
       "    <tr>\n",
       "      <td>3</td>\n",
       "      <td>4</td>\n",
       "      <td>2020-02-19</td>\n",
       "      <td>43880.0</td>\n",
       "      <td>2.0</td>\n",
       "    </tr>\n",
       "    <tr>\n",
       "      <td>4</td>\n",
       "      <td>5</td>\n",
       "      <td>2020-02-21</td>\n",
       "      <td>43882.0</td>\n",
       "      <td>2.0</td>\n",
       "    </tr>\n",
       "    <tr>\n",
       "      <td>...</td>\n",
       "      <td>...</td>\n",
       "      <td>...</td>\n",
       "      <td>...</td>\n",
       "      <td>...</td>\n",
       "    </tr>\n",
       "    <tr>\n",
       "      <td>5011</td>\n",
       "      <td>5012</td>\n",
       "      <td>2020-04-12</td>\n",
       "      <td>43933.0</td>\n",
       "      <td>4.0</td>\n",
       "    </tr>\n",
       "    <tr>\n",
       "      <td>5012</td>\n",
       "      <td>5013</td>\n",
       "      <td>2020-04-12</td>\n",
       "      <td>43933.0</td>\n",
       "      <td>4.0</td>\n",
       "    </tr>\n",
       "    <tr>\n",
       "      <td>5013</td>\n",
       "      <td>5014</td>\n",
       "      <td>2020-04-12</td>\n",
       "      <td>43933.0</td>\n",
       "      <td>4.0</td>\n",
       "    </tr>\n",
       "    <tr>\n",
       "      <td>5014</td>\n",
       "      <td>Fuente: SINAVE/DGE/InDRE</td>\n",
       "      <td>NaT</td>\n",
       "      <td>NaN</td>\n",
       "      <td>NaN</td>\n",
       "    </tr>\n",
       "    <tr>\n",
       "      <td>5015</td>\n",
       "      <td>Corte: 13 de abril del 2020 a las 13:00 horas</td>\n",
       "      <td>NaT</td>\n",
       "      <td>NaN</td>\n",
       "      <td>NaN</td>\n",
       "    </tr>\n",
       "  </tbody>\n",
       "</table>\n",
       "<p>5016 rows × 4 columns</p>\n",
       "</div>"
      ],
      "text/plain": [
       "                                            N° Caso  \\\n",
       "0                                                 1   \n",
       "1                                                 2   \n",
       "2                                                 3   \n",
       "3                                                 4   \n",
       "4                                                 5   \n",
       "...                                             ...   \n",
       "5011                                           5012   \n",
       "5012                                           5013   \n",
       "5013                                           5014   \n",
       "5014                       Fuente: SINAVE/DGE/InDRE   \n",
       "5015  Corte: 13 de abril del 2020 a las 13:00 horas   \n",
       "\n",
       "     Fecha de Inicio de síntomas  Fecha de Inicio en numero  Mes  \n",
       "0                     2020-02-17                    43878.0  2.0  \n",
       "1                     2020-02-17                    43878.0  2.0  \n",
       "2                     2020-02-19                    43880.0  2.0  \n",
       "3                     2020-02-19                    43880.0  2.0  \n",
       "4                     2020-02-21                    43882.0  2.0  \n",
       "...                          ...                        ...  ...  \n",
       "5011                  2020-04-12                    43933.0  4.0  \n",
       "5012                  2020-04-12                    43933.0  4.0  \n",
       "5013                  2020-04-12                    43933.0  4.0  \n",
       "5014                         NaT                        NaN  NaN  \n",
       "5015                         NaT                        NaN  NaN  \n",
       "\n",
       "[5016 rows x 4 columns]"
      ]
     },
     "execution_count": 5,
     "metadata": {},
     "output_type": "execute_result"
    }
   ],
   "source": [
    "dataCP['Mes']=dataCP['Fecha de Inicio de síntomas'].dt.month\n",
    "dataCP"
   ]
  },
  {
   "cell_type": "code",
   "execution_count": 6,
   "metadata": {
    "scrolled": true
   },
   "outputs": [
    {
     "name": "stdout",
     "output_type": "stream",
     "text": [
      "numero de dias casos confirmados: 55 days 00:00:00\n",
      "total de datos casos confirmados: 5014\n"
     ]
    }
   ],
   "source": [
    "start = dataCP['Fecha de Inicio de síntomas'][0] \n",
    "end = dataCP['Fecha de Inicio de síntomas'][5013] \n",
    "t = np.linspace(start.value, end.value) \n",
    "t = pd.to_datetime(t)  #linspace\n",
    "num_datos_CP=end-start\n",
    "total_de_datosCP=5014\n",
    "print('numero de dias casos confirmados:',num_datos_CP)\n",
    "print('total de datos casos confirmados:',total_de_datosCP)"
   ]
  },
  {
   "cell_type": "markdown",
   "metadata": {},
   "source": [
    "## Datos casos sospechosos en México"
   ]
  },
  {
   "cell_type": "code",
   "execution_count": 7,
   "metadata": {},
   "outputs": [
    {
     "data": {
      "text/html": [
       "<div>\n",
       "<style scoped>\n",
       "    .dataframe tbody tr th:only-of-type {\n",
       "        vertical-align: middle;\n",
       "    }\n",
       "\n",
       "    .dataframe tbody tr th {\n",
       "        vertical-align: top;\n",
       "    }\n",
       "\n",
       "    .dataframe thead th {\n",
       "        text-align: right;\n",
       "    }\n",
       "</style>\n",
       "<table border=\"1\" class=\"dataframe\">\n",
       "  <thead>\n",
       "    <tr style=\"text-align: right;\">\n",
       "      <th></th>\n",
       "      <th>N° Caso</th>\n",
       "      <th>Estado</th>\n",
       "      <th>Sexo</th>\n",
       "      <th>Edad</th>\n",
       "      <th>Fecha de Inicio de síntomas</th>\n",
       "      <th>Identificación de COVID-19 por RT-PCR\\nen tiempo real</th>\n",
       "      <th>Fecha de sintomas en número</th>\n",
       "    </tr>\n",
       "  </thead>\n",
       "  <tbody>\n",
       "    <tr>\n",
       "      <td>0</td>\n",
       "      <td>1</td>\n",
       "      <td>GUERRERO</td>\n",
       "      <td>FEMENINO</td>\n",
       "      <td>18.0</td>\n",
       "      <td>2020-01-08</td>\n",
       "      <td>Sospechoso</td>\n",
       "      <td>43838.0</td>\n",
       "    </tr>\n",
       "    <tr>\n",
       "      <td>1</td>\n",
       "      <td>2</td>\n",
       "      <td>CIUDAD DE MÉXICO</td>\n",
       "      <td>MASCULINO</td>\n",
       "      <td>33.0</td>\n",
       "      <td>2020-01-22</td>\n",
       "      <td>Sospechoso</td>\n",
       "      <td>43852.0</td>\n",
       "    </tr>\n",
       "    <tr>\n",
       "      <td>2</td>\n",
       "      <td>3</td>\n",
       "      <td>MÉXICO</td>\n",
       "      <td>FEMENINO</td>\n",
       "      <td>77.0</td>\n",
       "      <td>2020-01-24</td>\n",
       "      <td>Sospechoso</td>\n",
       "      <td>43854.0</td>\n",
       "    </tr>\n",
       "    <tr>\n",
       "      <td>3</td>\n",
       "      <td>4</td>\n",
       "      <td>GUANAJUATO</td>\n",
       "      <td>MASCULINO</td>\n",
       "      <td>32.0</td>\n",
       "      <td>2020-01-28</td>\n",
       "      <td>Sospechoso</td>\n",
       "      <td>43858.0</td>\n",
       "    </tr>\n",
       "    <tr>\n",
       "      <td>4</td>\n",
       "      <td>5</td>\n",
       "      <td>PUEBLA</td>\n",
       "      <td>MASCULINO</td>\n",
       "      <td>45.0</td>\n",
       "      <td>2020-01-28</td>\n",
       "      <td>Sospechoso</td>\n",
       "      <td>43858.0</td>\n",
       "    </tr>\n",
       "  </tbody>\n",
       "</table>\n",
       "</div>"
      ],
      "text/plain": [
       "  N° Caso            Estado       Sexo  Edad Fecha de Inicio de síntomas  \\\n",
       "0       1          GUERRERO   FEMENINO  18.0                  2020-01-08   \n",
       "1       2  CIUDAD DE MÉXICO  MASCULINO  33.0                  2020-01-22   \n",
       "2       3            MÉXICO   FEMENINO  77.0                  2020-01-24   \n",
       "3       4        GUANAJUATO  MASCULINO  32.0                  2020-01-28   \n",
       "4       5            PUEBLA  MASCULINO  45.0                  2020-01-28   \n",
       "\n",
       "  Identificación de COVID-19 por RT-PCR\\nen tiempo real  \\\n",
       "0                                         Sospechoso      \n",
       "1                                         Sospechoso      \n",
       "2                                         Sospechoso      \n",
       "3                                         Sospechoso      \n",
       "4                                         Sospechoso      \n",
       "\n",
       "   Fecha de sintomas en número  \n",
       "0                      43838.0  \n",
       "1                      43852.0  \n",
       "2                      43854.0  \n",
       "3                      43858.0  \n",
       "4                      43858.0  "
      ]
     },
     "execution_count": 7,
     "metadata": {},
     "output_type": "execute_result"
    }
   ],
   "source": [
    "dataCS = pd.read_excel('..\\DefinicionProyectoConjunto_ESalazar_MJMacias\\CasosSospechososCOVID.xlsx')\n",
    "#dataCS = pd.read_excel('/Users/ericksalazar/Desktop/Coronavirus_datos/Casos_sospechosos_COVID-19.xlsx')\n",
    "dataCS.head()"
   ]
  },
  {
   "cell_type": "code",
   "execution_count": 8,
   "metadata": {},
   "outputs": [
    {
     "data": {
      "text/html": [
       "<div>\n",
       "<style scoped>\n",
       "    .dataframe tbody tr th:only-of-type {\n",
       "        vertical-align: middle;\n",
       "    }\n",
       "\n",
       "    .dataframe tbody tr th {\n",
       "        vertical-align: top;\n",
       "    }\n",
       "\n",
       "    .dataframe thead th {\n",
       "        text-align: right;\n",
       "    }\n",
       "</style>\n",
       "<table border=\"1\" class=\"dataframe\">\n",
       "  <thead>\n",
       "    <tr style=\"text-align: right;\">\n",
       "      <th></th>\n",
       "      <th>N° Caso</th>\n",
       "      <th>Fecha de Inicio de síntomas</th>\n",
       "      <th>Fecha de sintomas en número</th>\n",
       "    </tr>\n",
       "  </thead>\n",
       "  <tbody>\n",
       "    <tr>\n",
       "      <td>0</td>\n",
       "      <td>1</td>\n",
       "      <td>2020-01-08</td>\n",
       "      <td>43838.0</td>\n",
       "    </tr>\n",
       "    <tr>\n",
       "      <td>1</td>\n",
       "      <td>2</td>\n",
       "      <td>2020-01-22</td>\n",
       "      <td>43852.0</td>\n",
       "    </tr>\n",
       "    <tr>\n",
       "      <td>2</td>\n",
       "      <td>3</td>\n",
       "      <td>2020-01-24</td>\n",
       "      <td>43854.0</td>\n",
       "    </tr>\n",
       "    <tr>\n",
       "      <td>3</td>\n",
       "      <td>4</td>\n",
       "      <td>2020-01-28</td>\n",
       "      <td>43858.0</td>\n",
       "    </tr>\n",
       "    <tr>\n",
       "      <td>4</td>\n",
       "      <td>5</td>\n",
       "      <td>2020-01-28</td>\n",
       "      <td>43858.0</td>\n",
       "    </tr>\n",
       "  </tbody>\n",
       "</table>\n",
       "</div>"
      ],
      "text/plain": [
       "  N° Caso Fecha de Inicio de síntomas  Fecha de sintomas en número\n",
       "0       1                  2020-01-08                      43838.0\n",
       "1       2                  2020-01-22                      43852.0\n",
       "2       3                  2020-01-24                      43854.0\n",
       "3       4                  2020-01-28                      43858.0\n",
       "4       5                  2020-01-28                      43858.0"
      ]
     },
     "execution_count": 8,
     "metadata": {},
     "output_type": "execute_result"
    }
   ],
   "source": [
    "dataCS=dataCS.drop(columns=['Estado','Sexo','Edad','Identificación de COVID-19 por RT-PCR\\nen tiempo real'],axis=1)\n",
    "dataCS= dataCS.drop([9341,9342], axis=0)\n",
    "dataCS=dataCS.sort_values(['Fecha de Inicio de síntomas']) #ordenar fechas\n",
    "dataCS.head()"
   ]
  },
  {
   "cell_type": "code",
   "execution_count": 9,
   "metadata": {},
   "outputs": [
    {
     "data": {
      "text/html": [
       "<div>\n",
       "<style scoped>\n",
       "    .dataframe tbody tr th:only-of-type {\n",
       "        vertical-align: middle;\n",
       "    }\n",
       "\n",
       "    .dataframe tbody tr th {\n",
       "        vertical-align: top;\n",
       "    }\n",
       "\n",
       "    .dataframe thead th {\n",
       "        text-align: right;\n",
       "    }\n",
       "</style>\n",
       "<table border=\"1\" class=\"dataframe\">\n",
       "  <thead>\n",
       "    <tr style=\"text-align: right;\">\n",
       "      <th></th>\n",
       "      <th>N° Caso</th>\n",
       "      <th>Fecha de Inicio de síntomas</th>\n",
       "      <th>Fecha de sintomas en número</th>\n",
       "      <th>Mes</th>\n",
       "    </tr>\n",
       "  </thead>\n",
       "  <tbody>\n",
       "    <tr>\n",
       "      <td>0</td>\n",
       "      <td>1</td>\n",
       "      <td>2020-01-08</td>\n",
       "      <td>43838.0</td>\n",
       "      <td>1</td>\n",
       "    </tr>\n",
       "    <tr>\n",
       "      <td>1</td>\n",
       "      <td>2</td>\n",
       "      <td>2020-01-22</td>\n",
       "      <td>43852.0</td>\n",
       "      <td>1</td>\n",
       "    </tr>\n",
       "    <tr>\n",
       "      <td>2</td>\n",
       "      <td>3</td>\n",
       "      <td>2020-01-24</td>\n",
       "      <td>43854.0</td>\n",
       "      <td>1</td>\n",
       "    </tr>\n",
       "    <tr>\n",
       "      <td>3</td>\n",
       "      <td>4</td>\n",
       "      <td>2020-01-28</td>\n",
       "      <td>43858.0</td>\n",
       "      <td>1</td>\n",
       "    </tr>\n",
       "    <tr>\n",
       "      <td>4</td>\n",
       "      <td>5</td>\n",
       "      <td>2020-01-28</td>\n",
       "      <td>43858.0</td>\n",
       "      <td>1</td>\n",
       "    </tr>\n",
       "    <tr>\n",
       "      <td>...</td>\n",
       "      <td>...</td>\n",
       "      <td>...</td>\n",
       "      <td>...</td>\n",
       "      <td>...</td>\n",
       "    </tr>\n",
       "    <tr>\n",
       "      <td>9274</td>\n",
       "      <td>9275</td>\n",
       "      <td>2020-04-13</td>\n",
       "      <td>43934.0</td>\n",
       "      <td>4</td>\n",
       "    </tr>\n",
       "    <tr>\n",
       "      <td>9273</td>\n",
       "      <td>9274</td>\n",
       "      <td>2020-04-13</td>\n",
       "      <td>43934.0</td>\n",
       "      <td>4</td>\n",
       "    </tr>\n",
       "    <tr>\n",
       "      <td>9272</td>\n",
       "      <td>9273</td>\n",
       "      <td>2020-04-13</td>\n",
       "      <td>43934.0</td>\n",
       "      <td>4</td>\n",
       "    </tr>\n",
       "    <tr>\n",
       "      <td>9281</td>\n",
       "      <td>9282</td>\n",
       "      <td>2020-04-13</td>\n",
       "      <td>43934.0</td>\n",
       "      <td>4</td>\n",
       "    </tr>\n",
       "    <tr>\n",
       "      <td>9340</td>\n",
       "      <td>9341</td>\n",
       "      <td>2020-04-13</td>\n",
       "      <td>43934.0</td>\n",
       "      <td>4</td>\n",
       "    </tr>\n",
       "  </tbody>\n",
       "</table>\n",
       "<p>9341 rows × 4 columns</p>\n",
       "</div>"
      ],
      "text/plain": [
       "     N° Caso Fecha de Inicio de síntomas  Fecha de sintomas en número  Mes\n",
       "0          1                  2020-01-08                      43838.0    1\n",
       "1          2                  2020-01-22                      43852.0    1\n",
       "2          3                  2020-01-24                      43854.0    1\n",
       "3          4                  2020-01-28                      43858.0    1\n",
       "4          5                  2020-01-28                      43858.0    1\n",
       "...      ...                         ...                          ...  ...\n",
       "9274    9275                  2020-04-13                      43934.0    4\n",
       "9273    9274                  2020-04-13                      43934.0    4\n",
       "9272    9273                  2020-04-13                      43934.0    4\n",
       "9281    9282                  2020-04-13                      43934.0    4\n",
       "9340    9341                  2020-04-13                      43934.0    4\n",
       "\n",
       "[9341 rows x 4 columns]"
      ]
     },
     "execution_count": 9,
     "metadata": {},
     "output_type": "execute_result"
    }
   ],
   "source": [
    "#Casos sospechosos\n",
    "dataCS['Mes']=dataCS['Fecha de Inicio de síntomas'].dt.month\n",
    "dataCS\n"
   ]
  },
  {
   "cell_type": "code",
   "execution_count": 10,
   "metadata": {},
   "outputs": [
    {
     "name": "stdout",
     "output_type": "stream",
     "text": [
      "numero de dias casos confirmados: 96 days 00:00:00\n",
      "total de datos casos confirmados: 9341\n"
     ]
    }
   ],
   "source": [
    "start = dataCS['Fecha de Inicio de síntomas'][0] \n",
    "end = dataCS['Fecha de Inicio de síntomas'][9340] \n",
    "t = np.linspace(start.value, end.value) \n",
    "t = pd.to_datetime(t)  #linspace\n",
    "num_datos_CP=end-start\n",
    "total_de_datosCP=9341\n",
    "print('numero de dias casos confirmados:',num_datos_CP)\n",
    "print('total de datos casos confirmados:',total_de_datosCP)"
   ]
  },
  {
   "cell_type": "markdown",
   "metadata": {},
   "source": [
    "## Nodo 1: **Graficar casos  confirmados en México hasta 13 de abril**"
   ]
  },
  {
   "cell_type": "code",
   "execution_count": 11,
   "metadata": {},
   "outputs": [
    {
     "name": "stderr",
     "output_type": "stream",
     "text": [
      "C:\\Users\\Maria jose\\Anaconda3\\lib\\site-packages\\numpy\\lib\\histograms.py:824: RuntimeWarning: invalid value encountered in greater_equal\n",
      "  keep = (tmp_a >= first_edge)\n",
      "C:\\Users\\Maria jose\\Anaconda3\\lib\\site-packages\\numpy\\lib\\histograms.py:825: RuntimeWarning: invalid value encountered in less_equal\n",
      "  keep &= (tmp_a <= last_edge)\n"
     ]
    },
    {
     "data": {
      "text/plain": [
       "Text(0.5, 1.0, 'Distribucion Casos positivos ')"
      ]
     },
     "execution_count": 11,
     "metadata": {},
     "output_type": "execute_result"
    },
    {
     "data": {
      "image/png": "[encoded data removed]",
      "text/plain": [
       "<Figure size 432x288 with 1 Axes>"
      ]
     },
     "metadata": {
      "needs_background": "light"
     },
     "output_type": "display_data"
    }
   ],
   "source": [
    "#histograma\n",
    "#plt.hist(dataCP['Fecha de Inicio de síntomas'],100)\n",
    "#plt.xlabel('Fechas')\n",
    "#plt.ylabel('Casos')\n",
    "#plt.grid()\n",
    "#plt.title('Distribucion Casos positivos ')\n",
    "\n",
    "hist_CP = plt.hist(dataCP['Fecha de Inicio en numero'], density=True, bins=100)\n",
    "plt.xlabel('Fechas')\n",
    "plt.ylabel('Casos')\n",
    "plt.grid()\n",
    "plt.title('Distribucion Casos positivos ')"
   ]
  },
  {
   "cell_type": "markdown",
   "metadata": {},
   "source": [
    "### Hipotesis\n",
    "* La curva de casos de COVID-19 sera exponencial si no se siguen las indicaciones por parte de las autoridades.\n",
    "\n",
    "Como podemos observar el aumento de casos positivos va en aumento debido al alto nivel de contagio se puede ver que ya alcanzó su nivel máximo pero ese nivel maximo se refiere al dia que se tu un mayor numero de contagios ademas como sabemos \n"
   ]
  },
  {
   "cell_type": "markdown",
   "metadata": {},
   "source": [
    "## Nodo 2: **Graficar casos sospechosos en México hasta 13 de abril**"
   ]
  },
  {
   "cell_type": "code",
   "execution_count": 12,
   "metadata": {},
   "outputs": [
    {
     "data": {
      "text/plain": [
       "Text(0.5, 1.0, 'Distribucion casos sospechosos')"
      ]
     },
     "execution_count": 12,
     "metadata": {},
     "output_type": "execute_result"
    },
    {
     "data": {
      "image/png": "[encoded data removed]",
      "text/plain": [
       "<Figure size 432x288 with 1 Axes>"
      ]
     },
     "metadata": {
      "needs_background": "light"
     },
     "output_type": "display_data"
    }
   ],
   "source": [
    "#Histograma \n",
    "plt.hist(dataCS['Fecha de sintomas en número'],100,color='darkorange')\n",
    "plt.xlabel('Fechas')\n",
    "plt.ylabel('Casos')\n",
    "plt.grid()\n",
    "plt.title('Distribucion casos sospechosos')"
   ]
  },
  {
   "cell_type": "markdown",
   "metadata": {},
   "source": [
    "## Comparación"
   ]
  },
  {
   "cell_type": "code",
   "execution_count": 13,
   "metadata": {},
   "outputs": [
    {
     "data": {
      "image/png": "[encoded data removed]",
      "text/plain": [
       "<Figure size 432x288 with 1 Axes>"
      ]
     },
     "metadata": {
      "needs_background": "light"
     },
     "output_type": "display_data"
    }
   ],
   "source": [
    "plt.hist(dataCP['Fecha de Inicio en numero'],density=True,bins=100, label='Casos Positivos')\n",
    "plt.hist(dataCS['Fecha de sintomas en número'],density=True,bins=100, label='Casos Sospechosos')\n",
    "plt.xlabel('Fechas')\n",
    "plt.ylabel('Casos')\n",
    "plt.grid()\n",
    "plt.legend(loc='best')\n",
    "plt.show()"
   ]
  },
  {
   "cell_type": "markdown",
   "metadata": {},
   "source": [
    "## NODO : Simulación de Casos Positivos y Sospechosos en 3 meses"
   ]
  },
  {
   "cell_type": "code",
   "execution_count": 45,
   "metadata": {},
   "outputs": [],
   "source": [
    "numcasosC = (dataCP['N° Caso'])\n",
    "meses = (dataCP['Mes'])\n",
    "febrero = dataCP[dataCP.Mes == 2]\n",
    "totalF = len(febrero)"
   ]
  },
  {
   "cell_type": "code",
   "execution_count": 46,
   "metadata": {},
   "outputs": [],
   "source": [
    "marzo = dataCP[dataCP.Mes == 3]\n",
    "totalM = len(marzo)"
   ]
  },
  {
   "cell_type": "code",
   "execution_count": 47,
   "metadata": {},
   "outputs": [],
   "source": [
    "abril = dataCP[dataCP.Mes == 4]\n",
    "totalA = len(abril)"
   ]
  },
  {
   "cell_type": "code",
   "execution_count": 48,
   "metadata": {},
   "outputs": [
    {
     "data": {
      "text/html": [
       "<div>\n",
       "<style scoped>\n",
       "    .dataframe tbody tr th:only-of-type {\n",
       "        vertical-align: middle;\n",
       "    }\n",
       "\n",
       "    .dataframe tbody tr th {\n",
       "        vertical-align: top;\n",
       "    }\n",
       "\n",
       "    .dataframe thead th {\n",
       "        text-align: right;\n",
       "    }\n",
       "</style>\n",
       "<table border=\"1\" class=\"dataframe\">\n",
       "  <thead>\n",
       "    <tr style=\"text-align: right;\">\n",
       "      <th></th>\n",
       "      <th>Casos Confirmados por mes</th>\n",
       "    </tr>\n",
       "  </thead>\n",
       "  <tbody>\n",
       "    <tr>\n",
       "      <td>Febrero</td>\n",
       "      <td>17</td>\n",
       "    </tr>\n",
       "    <tr>\n",
       "      <td>Marzo</td>\n",
       "      <td>3377</td>\n",
       "    </tr>\n",
       "    <tr>\n",
       "      <td>Abril</td>\n",
       "      <td>1620</td>\n",
       "    </tr>\n",
       "  </tbody>\n",
       "</table>\n",
       "</div>"
      ],
      "text/plain": [
       "         Casos Confirmados por mes\n",
       "Febrero                         17\n",
       "Marzo                         3377\n",
       "Abril                         1620"
      ]
     },
     "execution_count": 48,
     "metadata": {},
     "output_type": "execute_result"
    }
   ],
   "source": [
    "totales = [totalF,totalM,totalA]\n",
    "df = pd.DataFrame(data= {'Casos Confirmados por mes':totales},\n",
    "                 index = {'Febrero':totalF, 'Marzo':totalM, 'Abril':totalA})\n",
    "df"
   ]
  },
  {
   "cell_type": "code",
   "execution_count": 49,
   "metadata": {},
   "outputs": [],
   "source": [
    "import random\n",
    "def random_list(n,inicio,fin):\n",
    "    \"\"\" Genera una lista de n numeros aleatorios entre [inicio,fin]\"\"\"\n",
    "    return [random.randint(inicio, fin) for _ in range(n)]\n",
    "\n",
    "simCasos = (random_list(20000,4,7))"
   ]
  },
  {
   "cell_type": "code",
   "execution_count": 50,
   "metadata": {},
   "outputs": [],
   "source": [
    "abril = simCasos.count(4)\n",
    "mayo = simCasos.count(5)\n",
    "junio = simCasos.count(6)\n",
    "julio = simCasos.count(7)"
   ]
  },
  {
   "cell_type": "code",
   "execution_count": 51,
   "metadata": {},
   "outputs": [
    {
     "data": {
      "text/html": [
       "<div>\n",
       "<style scoped>\n",
       "    .dataframe tbody tr th:only-of-type {\n",
       "        vertical-align: middle;\n",
       "    }\n",
       "\n",
       "    .dataframe tbody tr th {\n",
       "        vertical-align: top;\n",
       "    }\n",
       "\n",
       "    .dataframe thead th {\n",
       "        text-align: right;\n",
       "    }\n",
       "</style>\n",
       "<table border=\"1\" class=\"dataframe\">\n",
       "  <thead>\n",
       "    <tr style=\"text-align: right;\">\n",
       "      <th></th>\n",
       "      <th>Casos Confirmados por mes</th>\n",
       "    </tr>\n",
       "  </thead>\n",
       "  <tbody>\n",
       "    <tr>\n",
       "      <td>Febrero</td>\n",
       "      <td>17</td>\n",
       "    </tr>\n",
       "    <tr>\n",
       "      <td>Marzo</td>\n",
       "      <td>3377</td>\n",
       "    </tr>\n",
       "    <tr>\n",
       "      <td>Abril</td>\n",
       "      <td>6600</td>\n",
       "    </tr>\n",
       "    <tr>\n",
       "      <td>Mayo</td>\n",
       "      <td>4997</td>\n",
       "    </tr>\n",
       "    <tr>\n",
       "      <td>Junio</td>\n",
       "      <td>5025</td>\n",
       "    </tr>\n",
       "    <tr>\n",
       "      <td>Julio</td>\n",
       "      <td>4998</td>\n",
       "    </tr>\n",
       "  </tbody>\n",
       "</table>\n",
       "</div>"
      ],
      "text/plain": [
       "         Casos Confirmados por mes\n",
       "Febrero                         17\n",
       "Marzo                         3377\n",
       "Abril                         6600\n",
       "Mayo                          4997\n",
       "Junio                         5025\n",
       "Julio                         4998"
      ]
     },
     "execution_count": 51,
     "metadata": {},
     "output_type": "execute_result"
    }
   ],
   "source": [
    "totales = [totalF,totalM,totalA+abril, mayo, \n",
    "           junio, julio]\n",
    "CP = pd.DataFrame(data= {'Casos Confirmados por mes':totales},\n",
    "                 index = {'Febrero':totalF, 'Marzo':totalM, 'Abril':totalA+abril, 'Mayo':mayo, 'Junio':junio, 'Julio':julio})\n",
    "CP"
   ]
  },
  {
   "cell_type": "code",
   "execution_count": 52,
   "metadata": {},
   "outputs": [
    {
     "data": {
      "text/html": [
       "<div>\n",
       "<style scoped>\n",
       "    .dataframe tbody tr th:only-of-type {\n",
       "        vertical-align: middle;\n",
       "    }\n",
       "\n",
       "    .dataframe tbody tr th {\n",
       "        vertical-align: top;\n",
       "    }\n",
       "\n",
       "    .dataframe thead th {\n",
       "        text-align: right;\n",
       "    }\n",
       "</style>\n",
       "<table border=\"1\" class=\"dataframe\">\n",
       "  <thead>\n",
       "    <tr style=\"text-align: right;\">\n",
       "      <th></th>\n",
       "      <th>Casos Confirmados por mes</th>\n",
       "      <th>%Confirmados</th>\n",
       "      <th>Casos Acumulados al mes</th>\n",
       "    </tr>\n",
       "  </thead>\n",
       "  <tbody>\n",
       "    <tr>\n",
       "      <td>Febrero</td>\n",
       "      <td>17</td>\n",
       "      <td>NaN</td>\n",
       "      <td>17</td>\n",
       "    </tr>\n",
       "    <tr>\n",
       "      <td>Marzo</td>\n",
       "      <td>3377</td>\n",
       "      <td>197.647059</td>\n",
       "      <td>3394</td>\n",
       "    </tr>\n",
       "    <tr>\n",
       "      <td>Abril</td>\n",
       "      <td>6600</td>\n",
       "      <td>0.954397</td>\n",
       "      <td>9994</td>\n",
       "    </tr>\n",
       "    <tr>\n",
       "      <td>Mayo</td>\n",
       "      <td>4997</td>\n",
       "      <td>-0.242879</td>\n",
       "      <td>14991</td>\n",
       "    </tr>\n",
       "    <tr>\n",
       "      <td>Junio</td>\n",
       "      <td>5025</td>\n",
       "      <td>0.005603</td>\n",
       "      <td>20016</td>\n",
       "    </tr>\n",
       "    <tr>\n",
       "      <td>Julio</td>\n",
       "      <td>4998</td>\n",
       "      <td>-0.005373</td>\n",
       "      <td>25014</td>\n",
       "    </tr>\n",
       "  </tbody>\n",
       "</table>\n",
       "</div>"
      ],
      "text/plain": [
       "         Casos Confirmados por mes  %Confirmados  Casos Acumulados al mes\n",
       "Febrero                         17           NaN                       17\n",
       "Marzo                         3377    197.647059                     3394\n",
       "Abril                         6600      0.954397                     9994\n",
       "Mayo                          4997     -0.242879                    14991\n",
       "Junio                         5025      0.005603                    20016\n",
       "Julio                         4998     -0.005373                    25014"
      ]
     },
     "execution_count": 52,
     "metadata": {},
     "output_type": "execute_result"
    }
   ],
   "source": [
    "CP['%Confirmados']=CP['Casos Confirmados por mes'].pct_change()\n",
    "CP['Casos Acumulados al mes']=CP['Casos Confirmados por mes'].cumsum()\n",
    "CP"
   ]
  },
  {
   "cell_type": "code",
   "execution_count": 53,
   "metadata": {
    "scrolled": true
   },
   "outputs": [
    {
     "data": {
      "text/plain": [
       "Text(0.5, 1.0, 'Casos Confirmados por mes')"
      ]
     },
     "execution_count": 53,
     "metadata": {},
     "output_type": "execute_result"
    },
    {
     "data": {
      "image/png": "[encoded data removed]",
      "text/plain": [
       "<Figure size 432x288 with 1 Axes>"
      ]
     },
     "metadata": {
      "needs_background": "light"
     },
     "output_type": "display_data"
    }
   ],
   "source": [
    "plt.plot(CP['Casos Confirmados por mes'])\n",
    "plt.xlabel('Meses')\n",
    "plt.ylabel('Casos')\n",
    "plt.grid()\n",
    "plt.title('Casos Confirmados por mes')"
   ]
  },
  {
   "cell_type": "code",
   "execution_count": 54,
   "metadata": {},
   "outputs": [
    {
     "data": {
      "text/plain": [
       "Text(0.5, 1.0, 'Casos Acumulados al mes')"
      ]
     },
     "execution_count": 54,
     "metadata": {},
     "output_type": "execute_result"
    },
    {
     "data": {
      "image/png": "[encoded data removed]",
      "text/plain": [
       "<Figure size 432x288 with 1 Axes>"
      ]
     },
     "metadata": {
      "needs_background": "light"
     },
     "output_type": "display_data"
    }
   ],
   "source": [
    "plt.plot(CP['Casos Acumulados al mes'],color='red')\n",
    "plt.xlabel('Meses')\n",
    "plt.ylabel('Casos')\n",
    "plt.grid()\n",
    "plt.title('Casos Acumulados al mes')"
   ]
  },
  {
   "cell_type": "code",
   "execution_count": 55,
   "metadata": {},
   "outputs": [],
   "source": [
    "numcasosS = (dataCS['N° Caso'])\n",
    "mesesS = (dataCS['Mes'])\n",
    "eneroS = dataCS[dataCS.Mes == 1]\n",
    "Ene = len(eneroS)\n",
    "febreroS = dataCS[dataCS.Mes == 2]\n",
    "Feb = len(febreroS)\n",
    "marzoS = dataCS[dataCS.Mes == 3]\n",
    "Mar = len(marzoS)\n",
    "abrilS = dataCS[dataCS.Mes == 4]\n",
    "Abr = len(abrilS)"
   ]
  },
  {
   "cell_type": "code",
   "execution_count": 56,
   "metadata": {},
   "outputs": [
    {
     "data": {
      "text/html": [
       "<div>\n",
       "<style scoped>\n",
       "    .dataframe tbody tr th:only-of-type {\n",
       "        vertical-align: middle;\n",
       "    }\n",
       "\n",
       "    .dataframe tbody tr th {\n",
       "        vertical-align: top;\n",
       "    }\n",
       "\n",
       "    .dataframe thead th {\n",
       "        text-align: right;\n",
       "    }\n",
       "</style>\n",
       "<table border=\"1\" class=\"dataframe\">\n",
       "  <thead>\n",
       "    <tr style=\"text-align: right;\">\n",
       "      <th></th>\n",
       "      <th>Casos Confirmados por mes</th>\n",
       "    </tr>\n",
       "  </thead>\n",
       "  <tbody>\n",
       "    <tr>\n",
       "      <td>Enero</td>\n",
       "      <td>6</td>\n",
       "    </tr>\n",
       "    <tr>\n",
       "      <td>Febrero</td>\n",
       "      <td>14</td>\n",
       "    </tr>\n",
       "    <tr>\n",
       "      <td>Marzo</td>\n",
       "      <td>3366</td>\n",
       "    </tr>\n",
       "    <tr>\n",
       "      <td>Abril</td>\n",
       "      <td>5955</td>\n",
       "    </tr>\n",
       "  </tbody>\n",
       "</table>\n",
       "</div>"
      ],
      "text/plain": [
       "         Casos Confirmados por mes\n",
       "Enero                            6\n",
       "Febrero                         14\n",
       "Marzo                         3366\n",
       "Abril                         5955"
      ]
     },
     "execution_count": 56,
     "metadata": {},
     "output_type": "execute_result"
    }
   ],
   "source": [
    "TSospechosos = [Ene, Feb, Mar, Abr]\n",
    "CS = pd.DataFrame(data= {'Casos Confirmados por mes':TSospechosos},\n",
    "                 index = {'Enero':Ene, 'Febrero':Feb, 'Marzo':Mar, 'Abril':Abr})\n",
    "CS"
   ]
  },
  {
   "cell_type": "code",
   "execution_count": 57,
   "metadata": {},
   "outputs": [],
   "source": [
    "def random_list(n,inicio,fin):\n",
    "    \"\"\" Genera una lista de n numeros aleatorios entre [inicio,fin]\"\"\"\n",
    "    return [random.randint(inicio, fin) for _ in range(n)]\n",
    "\n",
    "simCS = (random_list(40000,4,7))"
   ]
  },
  {
   "cell_type": "code",
   "execution_count": 58,
   "metadata": {},
   "outputs": [],
   "source": [
    "abrilS = simCS.count(4)\n",
    "mayoS = simCS.count(5)\n",
    "junioS = simCS.count(6)\n",
    "julioS = simCS.count(7)"
   ]
  },
  {
   "cell_type": "code",
   "execution_count": 59,
   "metadata": {},
   "outputs": [
    {
     "data": {
      "text/html": [
       "<div>\n",
       "<style scoped>\n",
       "    .dataframe tbody tr th:only-of-type {\n",
       "        vertical-align: middle;\n",
       "    }\n",
       "\n",
       "    .dataframe tbody tr th {\n",
       "        vertical-align: top;\n",
       "    }\n",
       "\n",
       "    .dataframe thead th {\n",
       "        text-align: right;\n",
       "    }\n",
       "</style>\n",
       "<table border=\"1\" class=\"dataframe\">\n",
       "  <thead>\n",
       "    <tr style=\"text-align: right;\">\n",
       "      <th></th>\n",
       "      <th>Casos Sospechosos por mes</th>\n",
       "    </tr>\n",
       "  </thead>\n",
       "  <tbody>\n",
       "    <tr>\n",
       "      <td>Enero</td>\n",
       "      <td>6</td>\n",
       "    </tr>\n",
       "    <tr>\n",
       "      <td>Febrero</td>\n",
       "      <td>14</td>\n",
       "    </tr>\n",
       "    <tr>\n",
       "      <td>Marzo</td>\n",
       "      <td>3366</td>\n",
       "    </tr>\n",
       "    <tr>\n",
       "      <td>Abril</td>\n",
       "      <td>15966</td>\n",
       "    </tr>\n",
       "    <tr>\n",
       "      <td>Mayo</td>\n",
       "      <td>9962</td>\n",
       "    </tr>\n",
       "    <tr>\n",
       "      <td>Junio</td>\n",
       "      <td>9920</td>\n",
       "    </tr>\n",
       "    <tr>\n",
       "      <td>Julio</td>\n",
       "      <td>10107</td>\n",
       "    </tr>\n",
       "  </tbody>\n",
       "</table>\n",
       "</div>"
      ],
      "text/plain": [
       "         Casos Sospechosos por mes\n",
       "Enero                            6\n",
       "Febrero                         14\n",
       "Marzo                         3366\n",
       "Abril                        15966\n",
       "Mayo                          9962\n",
       "Junio                         9920\n",
       "Julio                        10107"
      ]
     },
     "execution_count": 59,
     "metadata": {},
     "output_type": "execute_result"
    }
   ],
   "source": [
    "TSospechosos = [Ene,Feb,Mar, Abr+abrilS, mayoS, \n",
    "           junioS, julioS]\n",
    "CS = pd.DataFrame(data= {'Casos Sospechosos por mes':TSospechosos},\n",
    "                 index = {'Enero':Ene,'Febrero':Feb, 'Marzo':Mar, 'Abril':Abr+abrilS, 'Mayo':mayoS, \n",
    "                          'Junio':junioS, 'Julio':julioS})\n",
    "CS"
   ]
  },
  {
   "cell_type": "code",
   "execution_count": 60,
   "metadata": {},
   "outputs": [
    {
     "data": {
      "text/html": [
       "<div>\n",
       "<style scoped>\n",
       "    .dataframe tbody tr th:only-of-type {\n",
       "        vertical-align: middle;\n",
       "    }\n",
       "\n",
       "    .dataframe tbody tr th {\n",
       "        vertical-align: top;\n",
       "    }\n",
       "\n",
       "    .dataframe thead th {\n",
       "        text-align: right;\n",
       "    }\n",
       "</style>\n",
       "<table border=\"1\" class=\"dataframe\">\n",
       "  <thead>\n",
       "    <tr style=\"text-align: right;\">\n",
       "      <th></th>\n",
       "      <th>Casos Sospechosos por mes</th>\n",
       "      <th>%Confirmados</th>\n",
       "      <th>Casos Acumulados al mes</th>\n",
       "    </tr>\n",
       "  </thead>\n",
       "  <tbody>\n",
       "    <tr>\n",
       "      <td>Enero</td>\n",
       "      <td>6</td>\n",
       "      <td>NaN</td>\n",
       "      <td>6</td>\n",
       "    </tr>\n",
       "    <tr>\n",
       "      <td>Febrero</td>\n",
       "      <td>14</td>\n",
       "      <td>1.333333</td>\n",
       "      <td>20</td>\n",
       "    </tr>\n",
       "    <tr>\n",
       "      <td>Marzo</td>\n",
       "      <td>3366</td>\n",
       "      <td>239.428571</td>\n",
       "      <td>3386</td>\n",
       "    </tr>\n",
       "    <tr>\n",
       "      <td>Abril</td>\n",
       "      <td>15966</td>\n",
       "      <td>3.743316</td>\n",
       "      <td>19352</td>\n",
       "    </tr>\n",
       "    <tr>\n",
       "      <td>Mayo</td>\n",
       "      <td>9962</td>\n",
       "      <td>-0.376049</td>\n",
       "      <td>29314</td>\n",
       "    </tr>\n",
       "    <tr>\n",
       "      <td>Junio</td>\n",
       "      <td>9920</td>\n",
       "      <td>-0.004216</td>\n",
       "      <td>39234</td>\n",
       "    </tr>\n",
       "    <tr>\n",
       "      <td>Julio</td>\n",
       "      <td>10107</td>\n",
       "      <td>0.018851</td>\n",
       "      <td>49341</td>\n",
       "    </tr>\n",
       "  </tbody>\n",
       "</table>\n",
       "</div>"
      ],
      "text/plain": [
       "         Casos Sospechosos por mes  %Confirmados  Casos Acumulados al mes\n",
       "Enero                            6           NaN                        6\n",
       "Febrero                         14      1.333333                       20\n",
       "Marzo                         3366    239.428571                     3386\n",
       "Abril                        15966      3.743316                    19352\n",
       "Mayo                          9962     -0.376049                    29314\n",
       "Junio                         9920     -0.004216                    39234\n",
       "Julio                        10107      0.018851                    49341"
      ]
     },
     "execution_count": 60,
     "metadata": {},
     "output_type": "execute_result"
    }
   ],
   "source": [
    "CS['%Confirmados']=CS['Casos Sospechosos por mes'].pct_change()\n",
    "CS['Casos Acumulados al mes']=CS['Casos Sospechosos por mes'].cumsum()\n",
    "CS"
   ]
  },
  {
   "cell_type": "code",
   "execution_count": 61,
   "metadata": {},
   "outputs": [
    {
     "data": {
      "text/plain": [
       "Text(0.5, 1.0, 'Casos Sospechosos por mes')"
      ]
     },
     "execution_count": 61,
     "metadata": {},
     "output_type": "execute_result"
    },
    {
     "data": {
      "image/png": "[encoded data removed]",
      "text/plain": [
       "<Figure size 432x288 with 1 Axes>"
      ]
     },
     "metadata": {
      "needs_background": "light"
     },
     "output_type": "display_data"
    }
   ],
   "source": [
    "plt.plot(CS['Casos Sospechosos por mes'])\n",
    "plt.xlabel('Meses')\n",
    "plt.ylabel('Casos')\n",
    "plt.grid()\n",
    "plt.title('Casos Sospechosos por mes')"
   ]
  },
  {
   "cell_type": "code",
   "execution_count": 62,
   "metadata": {},
   "outputs": [
    {
     "data": {
      "text/plain": [
       "Text(0.5, 1.0, 'Casos Acumulados al mes')"
      ]
     },
     "execution_count": 62,
     "metadata": {},
     "output_type": "execute_result"
    },
    {
     "data": {
      "image/png": "[encoded data removed]",
      "text/plain": [
       "<Figure size 432x288 with 1 Axes>"
      ]
     },
     "metadata": {
      "needs_background": "light"
     },
     "output_type": "display_data"
    }
   ],
   "source": [
    "plt.plot(CS['Casos Acumulados al mes'],color='red')\n",
    "plt.xlabel('Meses')\n",
    "plt.ylabel('Casos')\n",
    "plt.grid()\n",
    "plt.title('Casos Acumulados al mes')"
   ]
  },
  {
   "cell_type": "code",
   "execution_count": null,
   "metadata": {},
   "outputs": [],
   "source": []
  },
  {
   "cell_type": "code",
   "execution_count": null,
   "metadata": {},
   "outputs": [],
   "source": []
  },
  {
   "cell_type": "code",
   "execution_count": null,
   "metadata": {},
   "outputs": [],
   "source": []
  },
  {
   "cell_type": "markdown",
   "metadata": {},
   "source": [
    "## Nodo 4: **Simulación de una sociedad mexicana sin seguir el aislamiento ni indicaciones de las autoridades:**"
   ]
  },
  {
   "cell_type": "code",
   "execution_count": 63,
   "metadata": {},
   "outputs": [
    {
     "name": "stdout",
     "output_type": "stream",
     "text": [
      "Package Versions:\n",
      "  scikit-learn: 0.21.3\n",
      "  scipy: 1.3.1\n",
      "  statsmodels: 0.10.1\n"
     ]
    }
   ],
   "source": [
    "from sklearn.neighbors import KernelDensity\n",
    "from scipy.stats import gaussian_kde\n",
    "from statsmodels.nonparametric.kde import KDEUnivariate\n",
    "from statsmodels.nonparametric.kernel_density import KDEMultivariate\n",
    "\n",
    "\n",
    "def kde_scipy(x, x_grid, bandwidth=0.2, **kwargs):\n",
    "    \"\"\"Kernel Density Estimation with Scipy\"\"\"\n",
    "    # Note that scipy weights its bandwidth by the covariance of the\n",
    "    # input data.  To make the results comparable to the other methods,\n",
    "    # we divide the bandwidth by the sample standard deviation here.\n",
    "    kde = gaussian_kde(x, bw_method=bandwidth / x.std(ddof=1), **kwargs)\n",
    "    return kde.evaluate(x_grid)\n",
    "\n",
    "\n",
    "print( \"Package Versions:\")\n",
    "import sklearn; print( \"  scikit-learn:\", sklearn.__version__)\n",
    "import scipy; print (\"  scipy:\", scipy.__version__)\n",
    "import statsmodels; print( \"  statsmodels:\", statsmodels.__version__)"
   ]
  },
  {
   "cell_type": "code",
   "execution_count": null,
   "metadata": {},
   "outputs": [],
   "source": []
  },
  {
   "cell_type": "code",
   "execution_count": null,
   "metadata": {},
   "outputs": [],
   "source": []
  },
  {
   "cell_type": "code",
   "execution_count": 64,
   "metadata": {},
   "outputs": [],
   "source": [
    "def Acep_rechazoS(R2:'Variables distruidas U~U(0,1)',\n",
    "                 R1:'Variables distribuidas como g(x)',\n",
    "                 f:'función objetivo a generar',\n",
    "                 t:'función que mayora a f'):\n",
    "    f_x = f(R1)\n",
    "    t_x = t(R1)\n",
    "    #c=np.zeros(len(R1))\n",
    "    condition = R2*t_x <= f_x\n",
    "    [plt.plot(R1[i],R2[i]*t_x[i],'*b') if condition[i] else plt.plot(R1[i],R2[i]*t_x[i],'o') for i in range(len(R1))]\n",
    "    return [R1[i] for i in range(len(R1)) if condition[i]]"
   ]
  },
  {
   "cell_type": "code",
   "execution_count": 65,
   "metadata": {},
   "outputs": [
    {
     "name": "stdout",
     "output_type": "stream",
     "text": [
      "El máximo de la función es: 2.8031616210937513\n"
     ]
    },
    {
     "data": {
      "image/png": "[encoded data removed]",
      "text/plain": [
       "<Figure size 432x288 with 1 Axes>"
      ]
     },
     "metadata": {
      "needs_background": "light"
     },
     "output_type": "display_data"
    }
   ],
   "source": [
    "from scipy import optimize\n",
    "from scipy.stats import beta\n",
    "# Parámetros de la función beta\n",
    "a =7; b=3\n",
    "N = 500  # número de puntos\n",
    "# Función objetivo\n",
    "f = lambda x: beta.pdf(x,a,b)\n",
    "x = np.arange(0,1,0.01)\n",
    "plt.plot(x,f(x),'k')\n",
    "# Encuentro el máximo de la función f\n",
    "c = float(f(optimize.fmin(lambda x:-f(x),0,disp=False)))\n",
    "print('El máximo de la función es:',c)\n",
    "\n",
    "t = lambda x: c*np.ones(len(x))\n",
    "plt.plot(x,f(x),'k')\n",
    "plt.plot(x,t(x),'b')\n",
    "R2 = np.random.rand(N)\n",
    "R1 = np.random.rand(N)\n",
    "\n",
    "Acep_rechazoS(R2,R1,f,t)\n",
    "\n",
    "plt.show()"
   ]
  },
  {
   "cell_type": "code",
   "execution_count": 66,
   "metadata": {},
   "outputs": [],
   "source": [
    "def best_fit_distribution(data, bins=200, ax=None):\n",
    "    \"\"\"Model data by finding best fit distribution to data\"\"\"\n",
    "\n",
    "    y, x = np.histogram(data, bins=bins, density=True)\n",
    "    x = (x + np.roll(x, -1))[:-1] / 2.0\n",
    "    \n",
    "    \n",
    "# Distributions to check\n",
    "    DISTRIBUTIONS = [        \n",
    "        st.alpha,st.anglit,st.arcsine,st.beta,st.betaprime,st.bradford,st.burr,st.cauchy,st.chi,st.chi2,st.cosine,\n",
    "        st.dgamma,st.dweibull,st.erlang,st.expon,st.exponnorm,st.exponweib,st.exponpow,st.f,st.fatiguelife,st.fisk,\n",
    "        st.foldcauchy,st.foldnorm,st.frechet_r,st.frechet_l,st.genlogistic,st.genpareto,st.gennorm,st.genexpon,\n",
    "        st.genextreme,st.gausshyper,st.gamma,st.gengamma,st.genhalflogistic,st.gilbrat,st.gompertz,st.gumbel_r,\n",
    "        st.gumbel_l,st.halfcauchy,st.halflogistic,st.halfnorm,st.halfgennorm,st.hypsecant,st.invgamma,st.invgauss,\n",
    "        st.invweibull,st.johnsonsb,st.johnsonsu,st.ksone,st.kstwobign,st.laplace,st.levy,st.levy_l,st.levy_stable,\n",
    "        st.logistic,st.loggamma,st.loglaplace,st.lognorm,st.lomax,st.maxwell,st.mielke,st.nakagami,st.ncx2,st.ncf,\n",
    "        st.nct,st.norm,st.pareto,st.pearson3,st.powerlaw,st.powerlognorm,st.powernorm,st.rdist,st.reciprocal,\n",
    "        st.rayleigh,st.rice,st.recipinvgauss,st.semicircular,st.t,st.triang,st.truncexpon,st.truncnorm,st.tukeylambda,\n",
    "        st.uniform,st.vonmises,st.vonmises_line,st.wald,st.weibull_min,st.weibull_max,st.wrapcauchy\n",
    "    ]\n",
    " \n",
    "    \n",
    "    best_distribution = st.norm\n",
    "    best_params = (0.0, 1.0)\n",
    "    best_sse = np.inf\n",
    "    \n",
    "    #Estimamos parametros\n",
    "    for distribution in DISTRIBUTIONS:\n",
    "    \n",
    "    # aplicamos la funcion fit a los datos\n",
    "        try:\n",
    "            \n",
    "        \n",
    "            with warnings.catch_warnings():\n",
    "                warnings.filterwarnings('ignore')\n",
    "                \n",
    "                params = distribution.fit(data)\n",
    "                \n",
    "                arg = params[:-2]\n",
    "                loc = params[-2]\n",
    "                scale = params[-1]\n",
    "                \n",
    "                pdf = distribution.pdf(x, loc=loc, scale=scale, *arg)\n",
    "                sse = np.sum(np.power(y - pdf, 2.0))\n",
    "                \n",
    "                \n",
    "                # Verificamos si le queda mejor la distribucion a los datos\n",
    "                if best_sse > sse > 0:\n",
    "                    best_distribution = distribution\n",
    "                    best_params = params\n",
    "                    best_sse = sse\n",
    "                \n",
    "        except Exception:\n",
    "            pass\n",
    "\n",
    "    return (best_distribution.name, best_params)"
   ]
  },
  {
   "cell_type": "code",
   "execution_count": 76,
   "metadata": {},
   "outputs": [],
   "source": [
    "#best_fit_distribution(CS, bins=200, ax=None)\n",
    "#best_fit_distribution(numcasosC, bins=200, ax=None)"
   ]
  },
  {
   "cell_type": "code",
   "execution_count": 68,
   "metadata": {},
   "outputs": [
    {
     "data": {
      "text/plain": [
       "('norm', (0.0, 1.0))"
      ]
     },
     "execution_count": 68,
     "metadata": {},
     "output_type": "execute_result"
    }
   ],
   "source": [
    "best_fit_distribution(numcasosS, bins=200, ax=None)"
   ]
  },
  {
   "cell_type": "code",
   "execution_count": 69,
   "metadata": {},
   "outputs": [
    {
     "name": "stdout",
     "output_type": "stream",
     "text": [
      "Package Versions:\n",
      "  scikit-learn: 0.21.3\n",
      "  scipy: 1.3.1\n",
      "  statsmodels: 0.10.1\n"
     ]
    }
   ],
   "source": [
    "from sklearn.neighbors import KernelDensity\n",
    "from scipy import optimize\n",
    "from scipy.stats import gaussian_kde\n",
    "from statsmodels.nonparametric.kde import KDEUnivariate\n",
    "from statsmodels.nonparametric.kernel_density import KDEMultivariate\n",
    "\n",
    "\n",
    "def kde_scipy(x, x_grid, bandwidth=0.1620, **kwargs):\n",
    "    \"\"\"Kernel Density Estimation with Scipy\"\"\"\n",
    "    # Note that scipy weights its bandwidth by the covariance of the\n",
    "    # input data.  To make the results comparable to the other methods,\n",
    "    # we divide the bandwidth by the sample standard deviation here.\n",
    "    kde = gaussian_kde(x, bw_method=bandwidth / x.std(ddof=1), **kwargs)\n",
    "    return kde.evaluate(x_grid)\n",
    "\n",
    "#kde_funcs = [kde_statsmodels_u, kde_statsmodels_m, kde_scipy, kde_sklearn]\n",
    "#kde_funcnames = ['Statsmodels-U', 'Statsmodels-M', 'Scipy', 'Scikit-learn']\n",
    "\n",
    "print( \"Package Versions:\")\n",
    "import sklearn; print( \"  scikit-learn:\", sklearn.__version__)\n",
    "import scipy; print (\"  scipy:\", scipy.__version__)\n",
    "import statsmodels; print( \"  statsmodels:\", statsmodels.__version__)"
   ]
  },
  {
   "cell_type": "code",
   "execution_count": 70,
   "metadata": {},
   "outputs": [
    {
     "name": "stdout",
     "output_type": "stream",
     "text": [
      "{'bandwidth': 0.16206896551724137}\n"
     ]
    }
   ],
   "source": [
    "from sklearn.neighbors import KernelDensity\n",
    "from sklearn.model_selection import GridSearchCV\n",
    "grid = GridSearchCV(KernelDensity(),\n",
    "                    {'bandwidth': np.linspace(0.1, 1.0, 30)},\n",
    "                    cv=20) # 20-fold cross-validation\n",
    "grid.fit(x[:, None])\n",
    "print(grid.best_params_)"
   ]
  },
  {
   "cell_type": "code",
   "execution_count": 72,
   "metadata": {},
   "outputs": [],
   "source": [
    "\n",
    "def kde_sklearn(x, x_grid, bandwidth):\n",
    "    \"\"\"Kernel Density Estimation with Scikit-learn\"\"\"\n",
    "    kde_skl = KernelDensity(bandwidth=bandwidth)\n",
    "    kde_skl.fit(x[:, np.newaxis])\n",
    "    # score_samples() returns the log-likelihood of the samples\n",
    "    log_pdf = kde_skl.score_samples(x_grid[:, np.newaxis])\n",
    "    return np.exp(log_pdf)"
   ]
  },
  {
   "cell_type": "code",
   "execution_count": 73,
   "metadata": {},
   "outputs": [],
   "source": [
    "import random"
   ]
  },
  {
   "cell_type": "code",
   "execution_count": 75,
   "metadata": {},
   "outputs": [
    {
     "data": {
      "image/png": "[encoded data removed]",
      "text/plain": [
       "<Figure size 432x288 with 1 Axes>"
      ]
     },
     "metadata": {
      "needs_background": "light"
     },
     "output_type": "display_data"
    }
   ],
   "source": [
    "kde = grid.best_estimator_\n",
    "pdf = np.exp(kde.score_samples(x_grid[:, None]))\n",
    "plt.plot(x_grid, pdf, linewidth=3, alpha=0.5, label='bw=%.2f' % kde.bandwidth)\n",
    "plt.hist(x, 30, fc='gray', histtype='stepfilled', alpha=0.3, density=True)\n",
    "plt.legend(loc='upper left')\n",
    "plt.xlim(-2.5, 3.5);"
   ]
  },
  {
   "cell_type": "code",
   "execution_count": null,
   "metadata": {},
   "outputs": [],
   "source": []
  },
  {
   "cell_type": "code",
   "execution_count": null,
   "metadata": {},
   "outputs": [],
   "source": []
  }
 ],
 "metadata": {
  "kernelspec": {
   "display_name": "Python 3",
   "language": "python",
   "name": "python3"
  },
  "language_info": {
   "codemirror_mode": {
    "name": "ipython",
    "version": 3
   },
   "file_extension": ".py",
   "mimetype": "text/x-python",
   "name": "python",
   "nbconvert_exporter": "python",
   "pygments_lexer": "ipython3",
   "version": "3.7.4"
  }
 },
 "nbformat": 4,
 "nbformat_minor": 2
}
