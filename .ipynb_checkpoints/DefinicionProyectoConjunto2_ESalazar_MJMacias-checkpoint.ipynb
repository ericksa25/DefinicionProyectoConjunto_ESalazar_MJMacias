{
 "cells": [
  {
   "cell_type": "markdown",
   "metadata": {},
   "source": [
    "<img style=\"float: left; margin: 30px 15px 15px 15px;\" src=\"https://pngimage.net/wp-content/uploads/2018/06/logo-iteso-png-5.png\" width=\"300\" height=\"500\" /> \n",
    "    \n",
    "    \n",
    "## <font color='navy'> SIMULACIÓN DE PROCESOS FINANCIEROS   \n",
    "\n",
    "**Nombres:** \n",
    "María José Macías García y Erick Salazar Hernández \n",
    "\n",
    "**Fecha:** 14 de abril del 2020.\n",
    "\n",
    "**Expediente** : 717922 y 714391.\n",
    "\n",
    "**Profesor:** Oscar David Jaramillo Zuluaga.\n",
    "\n",
    "**Enlace Github:** https://github.com/ericksa25/DefinicionProyectoConjunto_ESalazar_MJMacias\n",
    "\n",
    "## Definición de Proyecto  Clase: 12"
   ]
  },
  {
   "cell_type": "markdown",
   "metadata": {},
   "source": [
    "# <font color='seagreen'>\"Simulación de Casos de COVID-19 en México dentro de tres meses\""
   ]
  },
  {
   "cell_type": "markdown",
   "metadata": {},
   "source": [
    "## <font color='darkcyan'> OBJETIVOS\n",
    "- Poder concientizar, desarrollar y simular la situación de la pandemia mundial, con un enfoque en un determinado país, en este caso México, además, saber el poco o gran impacto que tiene la población para poder combatir el virus COVID-19 mediante acciones como lo son el aislamiento social, uso de cubrebocas, higiene personal entre otros.\n",
    "- Las principales variables a usar son Tasa de contagios, Tasa de recuperados y Tasa de muertes.\n",
    " \n",
    " ###  <font color='darkcyan'>Objetivo general\n",
    " >- Simular escenarios con ayuda de datos reales y poder comparar si estos convergen o se comportan de alguna manera similar a la realidad y analizar el impacto que tienen los diferentes escenarios.\n",
    " \n",
    " ### <font color='darkcyan'>Objetivos específicos\n",
    " >- Mostrar un escenario donde México, en los próximos 3 meses, sigue las recomendaciones de las autoridades de quedarse en casa.\n",
    " - Mostrar otro escenario donde México en los próximos 3 meses, no sigue las indicaciones de autoridades, por lo tanto, siguen exponiéndose saliendo de sus casas. \n",
    " - Comparar ambos escenarios previamente mencionados y poder mostrar el impacto que tienen cada uno. "
   ]
  },
  {
   "cell_type": "markdown",
   "metadata": {},
   "source": [
    "## <font color='darkcyan'>DEFINICIÓN DEL PROBLEMA\n",
    "\n",
    "<img style=\"float: right; margin: 10px 10px 15px 15px;\" src=\"https://www.isglobal.org/documents/10179/7759027/Coronavirus+SARS-CoV-2+de+CDC+en+Unsplash/6e5e7633-4ed9-484b-a95f-34195e55e142?t=1584534061000\" width=\"350px\" height=\"700px\" />\n",
    "\n",
    "Vivimos en un mundo globalizado donde las decisiones que se toman en el ámbito político, económico y social, no son excluyentes del impacto que pueden causar en nuestra sociedad, desde decisiones políticas en Estados Unidos hasta manifestaciones en Chile, el impacto que esto genera a otros países es mas grande de lo que podemos pensar. \n",
    "\n",
    "Actualmente estamos pasando por una crisis de salud a nivel mundial, esto se debe a que a finales del 2019 se comenzó a propagar un virus que hoy en día es conocido como Coronavirus COVID-19. Este virus tuvo su origen en la ciudad de Wuhan, Hubei, China por razones que aun no logran ser confirmadas pero el *murciélago grande de herradura chino* es el sospechoso número uno de ser el origen del brote de coronavirus.\n",
    "\n",
    "<img style=\"float: left; margin: 15px 15px 15px 15px;\" src=\"https://ichef.bbci.co.uk/news/660/cpsprodpb/11A8A/production/_110803327_1-1.jpg\" width=\"350px\" height=\"700px\" />\n",
    "\n",
    "Estos animales ya habían sido el origen de otras epidemias de coronavirus, en este caso todo apunta que ellos son los causantes de la transmisión del *Sindrome Agudo Respiratorio Severo* **SARS**, con 417.000 casos de personas infectadas y más de 18.700 muertes en 185 países.\n",
    "\n",
    "Nuestras simulaciones se van a basar en los datos obtenidos de la página oficial de la Organización Mundial de la Salud (*OMS*) https://www.who.int/emergencies/diseases/novel-coronavirus-2019/situation-reports/, donde publican día a día los nuevos casos y las muertes registradas por este virus de cada país, pero nosotros solo basándonos en la información que hay de México.\n",
    "\n",
    "La página que tomaremos como principal fuente de información y nos sera de gran ayuda es la página oficial del gobierno de México donde la Secretaría de Salud Federal, a través de la Dirección General de Epidemiología emite el informe técnico referente a Coronavirus; incluye documentos como el Comunicado Técnico Diario de los casos de COVID-19, la Tabla de casos sospechosos y la Tabla de casos positivos de COVID-19 (https://www.gob.mx/salud/documentos/coronavirus-covid-19-comunicado-tecnico-diario-238449).\n",
    "\n",
    "\n",
    "**Referencias:** https://www.bbc.com/mundo/noticias-51408771"
   ]
  },
  {
   "cell_type": "markdown",
   "metadata": {},
   "source": [
    "## <font color='darkcyan'>DIAGRAMA"
   ]
  },
  {
   "cell_type": "code",
   "execution_count": 1,
   "metadata": {},
   "outputs": [
    {
     "data": {
      "image/png": "[encoded data removed]",
      "text/plain": [
       "<IPython.core.display.Image object>"
      ]
     },
     "execution_count": 1,
     "metadata": {},
     "output_type": "execute_result"
    }
   ],
   "source": [
    "from IPython.display import Image\n",
    "Image(filename='INICIO.png')"
   ]
  },
  {
   "cell_type": "markdown",
   "metadata": {},
   "source": [
    "## <font color='darkcyan'> NODOS Y VARIABLES \n",
    "\n",
    " ### <font color='darkcyan'> Nodos\n",
    "> En este apartado el objetivo es identificar los problemas que se van a abordar, para examinar la factibilidad y viabilidad de la simulación de los nodos escogidos. Posteriormente se debe de argumentar del porqué de los nodos escogidos.\n",
    "> - **Graficar casos  confirmados en México hasta 13 de abril**\n",
    ">\n",
    ">    \n",
    "> - **Graficar casos sospechosos en México hasta 13 de abril**\n",
    ">\n",
    ">\n",
    "> - **Simulación de una sociedad mexicana siguiendo el aislamiento social e indicaciones de las autoridades:** En esta parte se tiene como objetivo ver el gran impacto que tiene la población para la ayuda de la disminución de la propagación del virus, algunos de los problemas que pueden surgir al momento de la simulación es el cambio de variable continuo que hay día a día sobre la propagación del virus, a pesar de algunos de los problemas existen es importante simular como la sociedad mexicana puede tener un gran impacto para contrarrestar la curva exponencial sobre los casos de COVID-19.\n",
    ">\n",
    ">\n",
    "> - **Simulación de una sociedad mexicana sin seguir el aislamiento ni indicaciones de las autoridades:** Al igual que la parte anterior la población y sus actividades tienen un papel importante en el crecimiento del virus, ya que si las personas continúan sin tomar medidas adecuadas la propagación del virus aumentara drásticamente, por otra parte el problema que se tiene sobre la simulación es el cambio de cada día de la tasa de propagación, pero es importante hacer saber a la población de como se esta propagando el virus debido a la falta de ayuda, además de la gran diferencia que existiría entre no tomar las medidas de higiene adecuadas y tomarlas.\n",
    "\n",
    " ### <font color='darkcyan'> Varibles\n",
    ">- Una de las variables utilizada es la **Tasa de contagios**, es la mas importante a la hora de medir la propagación del virus porque gracias a esto se puede tener una visión sobre la magnitud del contagio y su propagación.\n",
    "- **Tasa de recuperados** esta tasa puede dar un panorama mas amplio de como el virus puede ir disminuyendo gracias a la recuperación de los afectados.\n",
    "- **Tasa de muertos** es una de las mas importantes ya que se utiliza para medir que tan mortal es el virus y como afecta a sus habitantes, además proporcionar información sobre que sector de la población es el mas afectado en cuanto a muertes."
   ]
  },
  {
   "cell_type": "markdown",
   "metadata": {},
   "source": [
    "## <font color='darkcyan'>HIPÓTESIS\n",
    "\n",
    "* En tres meses habra menos casos de COVID-19 en México si se siguen las recomendaciones de los sistemas de salud, como el aislamiento social.\n",
    "* La curva de casos de COVID-19 sera exponencial si no se siguen las indicaciones por parte de las autoridades.\n",
    "* El contagio se produce por cercanía entre personas de manera que cuando un enfermo y un sano están suficientemente cerca, menos de 1 metro de distancia,el sano se contagia con toda seguridad"
   ]
  },
  {
   "cell_type": "markdown",
   "metadata": {},
   "source": [
    "## <font color='darkcyan'>SUPUESTOS\n",
    "\n",
    "* No existe cura para este tipo de enfermedad, solamente existen formas de disminuir la propagación, una de esas es el aislamiento y mantener distancia social.\n",
    "* Si la gente sigue las recomendaciones habra menos casos de COVID-19, por ende, el número de personas recuperadas y muertos sera menor.\n"
   ]
  },
  {
   "cell_type": "markdown",
   "metadata": {},
   "source": [
    "## <font color='darkcyan'>OBTENCIÓN DE DATOS\n",
    "- Se toma como principal fuente de datos la página oficial del Gobierno de México donde emiten el Comunicado Técnico Diario del Coronavirus (COVID-19).\n",
    "- https://www.gob.mx/salud/documentos/coronavirus-covid-19-comunicado-tecnico-diario-238449\n",
    "- Otra fuente de datos es \"Coronavirus disease (COVID-2019) situation reports\" de la Organización mundial de la salud (OMS), donde solo tomamos los datos correspondientes a México.\n",
    "- Por ahora sabemos que el comportamiento de la propagación de una pandemia es de forma exponencial conforme pasa el tiempo, esto se puede observar gráficamente en países que ya están en un estado alarmante de propagación de pandemia como es el caso de España e Italia.\n",
    "- https://www.who.int/emergencies/diseases/novel-coronavirus-2019/situation-reports/\n",
    "\n"
   ]
  },
  {
   "cell_type": "markdown",
   "metadata": {},
   "source": [
    "## <font color='darkcyan'>VISUALIZACIÓN DE RESULTADOS DE SIMULACIÓN"
   ]
  },
  {
   "cell_type": "code",
   "execution_count": 97,
   "metadata": {},
   "outputs": [],
   "source": [
    "import numpy as np\n",
    "import matplotlib.pyplot as plt\n",
    "from itertools import cycle  # Librería para hacer ciclos\n",
    "import matplotlib.pyplot as plt\n",
    "import scipy.stats as st     # Librería estadística\n",
    "import pandas as pd\n",
    "from JSAnimation.IPython_display import anim_to_html\n",
    "from sklearn.neighbors import KernelDensity\n",
    "from scipy.stats import gaussian_kde\n",
    "from statsmodels.nonparametric.kde import KDEUnivariate\n",
    "from statsmodels.nonparametric.kernel_density import KDEMultivariate"
   ]
  },
  {
   "cell_type": "code",
   "execution_count": 98,
   "metadata": {},
   "outputs": [
    {
     "data": {
      "text/html": [
       "<div>\n",
       "<style scoped>\n",
       "    .dataframe tbody tr th:only-of-type {\n",
       "        vertical-align: middle;\n",
       "    }\n",
       "\n",
       "    .dataframe tbody tr th {\n",
       "        vertical-align: top;\n",
       "    }\n",
       "\n",
       "    .dataframe thead th {\n",
       "        text-align: right;\n",
       "    }\n",
       "</style>\n",
       "<table border=\"1\" class=\"dataframe\">\n",
       "  <thead>\n",
       "    <tr style=\"text-align: right;\">\n",
       "      <th></th>\n",
       "      <th>N° Caso</th>\n",
       "      <th>Fecha de Inicio de síntomas</th>\n",
       "    </tr>\n",
       "  </thead>\n",
       "  <tbody>\n",
       "    <tr>\n",
       "      <td>0</td>\n",
       "      <td>1</td>\n",
       "      <td>2020-02-17</td>\n",
       "    </tr>\n",
       "    <tr>\n",
       "      <td>1</td>\n",
       "      <td>2</td>\n",
       "      <td>2020-02-17</td>\n",
       "    </tr>\n",
       "    <tr>\n",
       "      <td>2</td>\n",
       "      <td>3</td>\n",
       "      <td>2020-02-19</td>\n",
       "    </tr>\n",
       "    <tr>\n",
       "      <td>3</td>\n",
       "      <td>4</td>\n",
       "      <td>2020-02-19</td>\n",
       "    </tr>\n",
       "    <tr>\n",
       "      <td>4</td>\n",
       "      <td>5</td>\n",
       "      <td>2020-02-21</td>\n",
       "    </tr>\n",
       "    <tr>\n",
       "      <td>...</td>\n",
       "      <td>...</td>\n",
       "      <td>...</td>\n",
       "    </tr>\n",
       "    <tr>\n",
       "      <td>5009</td>\n",
       "      <td>5010</td>\n",
       "      <td>2020-04-11</td>\n",
       "    </tr>\n",
       "    <tr>\n",
       "      <td>5010</td>\n",
       "      <td>5011</td>\n",
       "      <td>2020-04-11</td>\n",
       "    </tr>\n",
       "    <tr>\n",
       "      <td>5011</td>\n",
       "      <td>5012</td>\n",
       "      <td>2020-04-12</td>\n",
       "    </tr>\n",
       "    <tr>\n",
       "      <td>5012</td>\n",
       "      <td>5013</td>\n",
       "      <td>2020-04-12</td>\n",
       "    </tr>\n",
       "    <tr>\n",
       "      <td>5013</td>\n",
       "      <td>5014</td>\n",
       "      <td>2020-04-12</td>\n",
       "    </tr>\n",
       "  </tbody>\n",
       "</table>\n",
       "<p>5014 rows × 2 columns</p>\n",
       "</div>"
      ],
      "text/plain": [
       "     N° Caso Fecha de Inicio de síntomas\n",
       "0          1                  2020-02-17\n",
       "1          2                  2020-02-17\n",
       "2          3                  2020-02-19\n",
       "3          4                  2020-02-19\n",
       "4          5                  2020-02-21\n",
       "...      ...                         ...\n",
       "5009    5010                  2020-04-11\n",
       "5010    5011                  2020-04-11\n",
       "5011    5012                  2020-04-12\n",
       "5012    5013                  2020-04-12\n",
       "5013    5014                  2020-04-12\n",
       "\n",
       "[5014 rows x 2 columns]"
      ]
     },
     "execution_count": 98,
     "metadata": {},
     "output_type": "execute_result"
    }
   ],
   "source": [
    "dataCP = pd.read_excel('..\\DefinicionProyectoConjunto_ESalazar_MJMacias\\CasosPositivosCOVID.xlsx')\n",
    "dataCP = dataCP.drop(5014, axis=0)\n",
    "dataCP = dataCP.drop(5015, axis=0)\n",
    "dataCP"
   ]
  },
  {
   "cell_type": "code",
   "execution_count": 99,
   "metadata": {},
   "outputs": [
    {
     "data": {
      "text/plain": [
       "<Figure size 720x576 with 0 Axes>"
      ]
     },
     "metadata": {},
     "output_type": "display_data"
    },
    {
     "data": {
      "image/png": "[encoded data removed]",
      "text/plain": [
       "<Figure size 432x288 with 1 Axes>"
      ]
     },
     "metadata": {
      "needs_background": "light"
     },
     "output_type": "display_data"
    }
   ],
   "source": [
    "#num_casos = dataCP[column=1]\n",
    "#fecha = dataCP[column=2]\n",
    "\n",
    "plt.figure(figsize=(10,8))\n",
    "fig, ax = plt.subplots()\n",
    "ax.plot(dataCP['Fecha de Inicio de síntomas'], dataCP['N° Caso'])\n",
    "plt.title('Casos Reales Confirmados')\n",
    "plt.xlabel('Fecha')\n",
    "plt.ylabel('Num de casos')\n",
    "plt.show()\n",
    "\n"
   ]
  },
  {
   "cell_type": "code",
   "execution_count": 100,
   "metadata": {},
   "outputs": [
    {
     "data": {
      "text/html": [
       "<div>\n",
       "<style scoped>\n",
       "    .dataframe tbody tr th:only-of-type {\n",
       "        vertical-align: middle;\n",
       "    }\n",
       "\n",
       "    .dataframe tbody tr th {\n",
       "        vertical-align: top;\n",
       "    }\n",
       "\n",
       "    .dataframe thead th {\n",
       "        text-align: right;\n",
       "    }\n",
       "</style>\n",
       "<table border=\"1\" class=\"dataframe\">\n",
       "  <thead>\n",
       "    <tr style=\"text-align: right;\">\n",
       "      <th></th>\n",
       "      <th>Casos Sospechosos a enfermedad por COVID-19.</th>\n",
       "      <th>Unnamed: 4</th>\n",
       "    </tr>\n",
       "  </thead>\n",
       "  <tbody>\n",
       "    <tr>\n",
       "      <td>1</td>\n",
       "      <td>1</td>\n",
       "      <td>2020-01-08 00:00:00</td>\n",
       "    </tr>\n",
       "    <tr>\n",
       "      <td>2</td>\n",
       "      <td>2</td>\n",
       "      <td>2020-01-22 00:00:00</td>\n",
       "    </tr>\n",
       "    <tr>\n",
       "      <td>3</td>\n",
       "      <td>3</td>\n",
       "      <td>2020-01-24 00:00:00</td>\n",
       "    </tr>\n",
       "    <tr>\n",
       "      <td>4</td>\n",
       "      <td>4</td>\n",
       "      <td>2020-01-28 00:00:00</td>\n",
       "    </tr>\n",
       "    <tr>\n",
       "      <td>5</td>\n",
       "      <td>5</td>\n",
       "      <td>2020-01-28 00:00:00</td>\n",
       "    </tr>\n",
       "    <tr>\n",
       "      <td>...</td>\n",
       "      <td>...</td>\n",
       "      <td>...</td>\n",
       "    </tr>\n",
       "    <tr>\n",
       "      <td>9337</td>\n",
       "      <td>9337</td>\n",
       "      <td>2020-04-13 00:00:00</td>\n",
       "    </tr>\n",
       "    <tr>\n",
       "      <td>9338</td>\n",
       "      <td>9338</td>\n",
       "      <td>2020-04-13 00:00:00</td>\n",
       "    </tr>\n",
       "    <tr>\n",
       "      <td>9339</td>\n",
       "      <td>9339</td>\n",
       "      <td>2020-04-13 00:00:00</td>\n",
       "    </tr>\n",
       "    <tr>\n",
       "      <td>9340</td>\n",
       "      <td>9340</td>\n",
       "      <td>2020-04-13 00:00:00</td>\n",
       "    </tr>\n",
       "    <tr>\n",
       "      <td>9341</td>\n",
       "      <td>9341</td>\n",
       "      <td>2020-04-13 00:00:00</td>\n",
       "    </tr>\n",
       "  </tbody>\n",
       "</table>\n",
       "<p>9341 rows × 2 columns</p>\n",
       "</div>"
      ],
      "text/plain": [
       "     Casos Sospechosos a enfermedad por COVID-19.           Unnamed: 4\n",
       "1                                               1  2020-01-08 00:00:00\n",
       "2                                               2  2020-01-22 00:00:00\n",
       "3                                               3  2020-01-24 00:00:00\n",
       "4                                               4  2020-01-28 00:00:00\n",
       "5                                               5  2020-01-28 00:00:00\n",
       "...                                           ...                  ...\n",
       "9337                                         9337  2020-04-13 00:00:00\n",
       "9338                                         9338  2020-04-13 00:00:00\n",
       "9339                                         9339  2020-04-13 00:00:00\n",
       "9340                                         9340  2020-04-13 00:00:00\n",
       "9341                                         9341  2020-04-13 00:00:00\n",
       "\n",
       "[9341 rows x 2 columns]"
      ]
     },
     "execution_count": 100,
     "metadata": {},
     "output_type": "execute_result"
    }
   ],
   "source": [
    "dataCS = pd.read_excel('..\\DefinicionProyectoConjunto_ESalazar_MJMacias\\CasosSospechososCOVID.xlsx')\n",
    "dataCS = dataCS.drop('Unnamed: 1', axis=1)\n",
    "dataCS = dataCS.drop('Unnamed: 2', axis=1)\n",
    "dataCS = dataCS.drop('Unnamed: 3', axis=1)\n",
    "dataCS = dataCS.drop('Unnamed: 5', axis=1)\n",
    "dataCS = dataCS.drop(9342, axis=0)\n",
    "dataCS = dataCS.drop(9343, axis=0)\n",
    "dataCS = dataCS.drop(0, axis=0)\n",
    "dataCS"
   ]
  },
  {
   "cell_type": "code",
   "execution_count": 101,
   "metadata": {},
   "outputs": [
    {
     "data": {
      "text/plain": [
       "<Figure size 720x576 with 0 Axes>"
      ]
     },
     "metadata": {},
     "output_type": "display_data"
    },
    {
     "data": {
      "image/png": "[encoded data removed]",
      "text/plain": [
       "<Figure size 432x288 with 1 Axes>"
      ]
     },
     "metadata": {
      "needs_background": "light"
     },
     "output_type": "display_data"
    }
   ],
   "source": [
    "plt.figure(figsize=(10,8))\n",
    "fig, ax = plt.subplots()\n",
    "ax.plot(dataCS['Unnamed: 4'], dataCS['Casos Sospechosos a enfermedad por COVID-19.'])\n",
    "plt.title('Casos Reales Sospechosos')\n",
    "plt.xlabel('Fecha')\n",
    "plt.ylabel('Num de casos')\n",
    "plt.show()"
   ]
  },
  {
   "cell_type": "code",
   "execution_count": 102,
   "metadata": {},
   "outputs": [],
   "source": [
    "num_casosS = 9341\n",
    "num_casosCR = 5014"
   ]
  },
  {
   "cell_type": "code",
   "execution_count": null,
   "metadata": {},
   "outputs": [],
   "source": [
    "cambio "
   ]
  },
  {
   "cell_type": "code",
   "execution_count": null,
   "metadata": {},
   "outputs": [],
   "source": []
  },
  {
   "cell_type": "code",
   "execution_count": null,
   "metadata": {},
   "outputs": [],
   "source": []
  },
  {
   "cell_type": "markdown",
   "metadata": {},
   "source": [
    "<font color=red>\n",
    "# Codigo"
   ]
  },
  {
   "cell_type": "markdown",
   "metadata": {},
   "source": [
    "## Puntos\n",
    "**Concluir graficas, prueba de hipotesis que vamos hacer, que es lo que queremos comprobar **\n",
    "- Despues del codigo \n",
    "- Utilizar el kernel para cada uno de los nodos \n",
    "\n",
    "\n",
    "**Validar las hipotesis que tenemos:**\n",
    "- En tres meses habra menos casos de COVID-19 en México si se siguen las recomendaciones de los sistemas de salud, como el aislamiento social.\n",
    "- La curva de casos de COVID-19 sera exponencial si no se siguen las indicaciones por parte de las autoridades.\n",
    "\n",
    "explicar que sucede en la simulacion de la hipotesis\n",
    "\n",
    "- **Ser específico en los datos que se van a analizar**, Confirmados de coronavirus, sospechosos\n",
    "- hacer un histograma de confirmados de coronavirus, sospechosos \n",
    "\n",
    "- Utilizar metodo de aceptacion y rechazo para generar variables aleatorias que siguan la misma distribución, es lo que queremos hacer **(62:00)**\n",
    "\n",
    "- Lo que **quiere el profesor** es utilizar los kernels, que nos muestre una función, con esa función utilizamos el metodo de aceptacion y rechazo, con el metodo de aceptación y rechazo generar variables aleatorias que distribuyan segun el kernel que nosotros tengamos  **(67:00) checar código**"
   ]
  },
  {
   "cell_type": "markdown",
   "metadata": {},
   "source": [
    "## Comentarios: \n",
    "- Como nuestro ejemplo es para 3 meses y todavia no llegamos a esa fecha, necesitamos simular el escenario en otro país puede ser China, y ver como se comporta\n",
    "- Al momento de terminar los 4 nodos tenemos que utilizar y compararlo con nuestro objetivo \n",
    "- No olvidar utilizar la **clase 19** en el proyecto"
   ]
  },
  {
   "cell_type": "code",
   "execution_count": null,
   "metadata": {},
   "outputs": [],
   "source": []
  },
  {
   "cell_type": "code",
   "execution_count": 1,
   "metadata": {},
   "outputs": [],
   "source": [
    "import numpy as np\n",
    "import matplotlib.pyplot as plt\n",
    "from itertools import cycle  # Librería para hacer ciclos\n",
    "import matplotlib.pyplot as plt\n",
    "import scipy.stats as st     # Librería estadística\n",
    "import pandas as pd\n",
    "from JSAnimation.IPython_display import anim_to_html\n",
    "from sklearn.neighbors import KernelDensity\n",
    "from scipy.stats import gaussian_kde\n",
    "from statsmodels.nonparametric.kde import KDEUnivariate\n",
    "from statsmodels.nonparametric.kernel_density import KDEMultivariate"
   ]
  },
  {
   "cell_type": "code",
   "execution_count": 2,
   "metadata": {},
   "outputs": [
    {
     "data": {
      "text/html": [
       "<div>\n",
       "<style scoped>\n",
       "    .dataframe tbody tr th:only-of-type {\n",
       "        vertical-align: middle;\n",
       "    }\n",
       "\n",
       "    .dataframe tbody tr th {\n",
       "        vertical-align: top;\n",
       "    }\n",
       "\n",
       "    .dataframe thead th {\n",
       "        text-align: right;\n",
       "    }\n",
       "</style>\n",
       "<table border=\"1\" class=\"dataframe\">\n",
       "  <thead>\n",
       "    <tr style=\"text-align: right;\">\n",
       "      <th></th>\n",
       "      <th>N° Caso</th>\n",
       "      <th>Estado</th>\n",
       "      <th>Sexo</th>\n",
       "      <th>Edad</th>\n",
       "      <th>Fecha de Inicio de síntomas</th>\n",
       "      <th>Identificación de COVID- 19 por RT-PCR en tiempo real</th>\n",
       "    </tr>\n",
       "  </thead>\n",
       "  <tbody>\n",
       "    <tr>\n",
       "      <th>0</th>\n",
       "      <td>1</td>\n",
       "      <td>MÉXICO</td>\n",
       "      <td>FEMENINO</td>\n",
       "      <td>75.0</td>\n",
       "      <td>2020-03-28</td>\n",
       "      <td>Confirmado</td>\n",
       "    </tr>\n",
       "    <tr>\n",
       "      <th>1</th>\n",
       "      <td>2</td>\n",
       "      <td>TAMAULIPAS</td>\n",
       "      <td>MASCULINO</td>\n",
       "      <td>22.0</td>\n",
       "      <td>2020-04-04</td>\n",
       "      <td>Confirmado</td>\n",
       "    </tr>\n",
       "    <tr>\n",
       "      <th>2</th>\n",
       "      <td>3</td>\n",
       "      <td>CIUDAD DE MÉXICO</td>\n",
       "      <td>MASCULINO</td>\n",
       "      <td>40.0</td>\n",
       "      <td>2020-03-17</td>\n",
       "      <td>Confirmado</td>\n",
       "    </tr>\n",
       "    <tr>\n",
       "      <th>3</th>\n",
       "      <td>4</td>\n",
       "      <td>CIUDAD DE MÉXICO</td>\n",
       "      <td>FEMENINO</td>\n",
       "      <td>29.0</td>\n",
       "      <td>2020-03-26</td>\n",
       "      <td>Confirmado</td>\n",
       "    </tr>\n",
       "    <tr>\n",
       "      <th>4</th>\n",
       "      <td>5</td>\n",
       "      <td>GUERRERO</td>\n",
       "      <td>FEMENINO</td>\n",
       "      <td>61.0</td>\n",
       "      <td>2020-04-06</td>\n",
       "      <td>Confirmado</td>\n",
       "    </tr>\n",
       "  </tbody>\n",
       "</table>\n",
       "</div>"
      ],
      "text/plain": [
       "  N° Caso            Estado       Sexo  Edad Fecha de Inicio de síntomas  \\\n",
       "0       1            MÉXICO   FEMENINO  75.0                  2020-03-28   \n",
       "1       2        TAMAULIPAS  MASCULINO  22.0                  2020-04-04   \n",
       "2       3  CIUDAD DE MÉXICO  MASCULINO  40.0                  2020-03-17   \n",
       "3       4  CIUDAD DE MÉXICO   FEMENINO  29.0                  2020-03-26   \n",
       "4       5          GUERRERO   FEMENINO  61.0                  2020-04-06   \n",
       "\n",
       "  Identificación de COVID- 19 por RT-PCR en tiempo real  \n",
       "0                                         Confirmado     \n",
       "1                                         Confirmado     \n",
       "2                                         Confirmado     \n",
       "3                                         Confirmado     \n",
       "4                                         Confirmado     "
      ]
     },
     "execution_count": 2,
     "metadata": {},
     "output_type": "execute_result"
    }
   ],
   "source": [
    "dataCP = pd.read_excel('/Users/ericksalazar/Desktop/Coronavirus_datos/Casos_positivos_COVID-19.xlsx') #CAMBIAR DIRECCION\n",
    "dataCP.head()"
   ]
  },
  {
   "cell_type": "code",
   "execution_count": 3,
   "metadata": {},
   "outputs": [
    {
     "data": {
      "text/html": [
       "<div>\n",
       "<style scoped>\n",
       "    .dataframe tbody tr th:only-of-type {\n",
       "        vertical-align: middle;\n",
       "    }\n",
       "\n",
       "    .dataframe tbody tr th {\n",
       "        vertical-align: top;\n",
       "    }\n",
       "\n",
       "    .dataframe thead th {\n",
       "        text-align: right;\n",
       "    }\n",
       "</style>\n",
       "<table border=\"1\" class=\"dataframe\">\n",
       "  <thead>\n",
       "    <tr style=\"text-align: right;\">\n",
       "      <th></th>\n",
       "      <th>N° Caso</th>\n",
       "      <th>Fecha de Inicio de síntomas</th>\n",
       "    </tr>\n",
       "  </thead>\n",
       "  <tbody>\n",
       "    <tr>\n",
       "      <th>3086</th>\n",
       "      <td>3087</td>\n",
       "      <td>2020-02-17</td>\n",
       "    </tr>\n",
       "    <tr>\n",
       "      <th>4969</th>\n",
       "      <td>4970</td>\n",
       "      <td>2020-02-17</td>\n",
       "    </tr>\n",
       "    <tr>\n",
       "      <th>2455</th>\n",
       "      <td>2456</td>\n",
       "      <td>2020-02-19</td>\n",
       "    </tr>\n",
       "    <tr>\n",
       "      <th>3535</th>\n",
       "      <td>3536</td>\n",
       "      <td>2020-02-19</td>\n",
       "    </tr>\n",
       "    <tr>\n",
       "      <th>3620</th>\n",
       "      <td>3621</td>\n",
       "      <td>2020-02-21</td>\n",
       "    </tr>\n",
       "  </tbody>\n",
       "</table>\n",
       "</div>"
      ],
      "text/plain": [
       "     N° Caso Fecha de Inicio de síntomas\n",
       "3086    3087                  2020-02-17\n",
       "4969    4970                  2020-02-17\n",
       "2455    2456                  2020-02-19\n",
       "3535    3536                  2020-02-19\n",
       "3620    3621                  2020-02-21"
      ]
     },
     "execution_count": 3,
     "metadata": {},
     "output_type": "execute_result"
    }
   ],
   "source": [
    "\n",
    "dataCP=dataCP.drop(columns=['Estado','Sexo','Edad','Identificación de COVID- 19 por RT-PCR en tiempo real'],axis=1)\n",
    "dataCP = dataCP.drop([5014,5015], axis=0)\n",
    "dataCP=dataCP.sort_values(['Fecha de Inicio de síntomas']) #ordenar fechas\n",
    "dataCP.head()"
   ]
  },
  {
   "cell_type": "code",
   "execution_count": 4,
   "metadata": {},
   "outputs": [
    {
     "data": {
      "text/plain": [
       "[<matplotlib.lines.Line2D at 0x10d3b3940>,\n",
       " <matplotlib.lines.Line2D at 0x113a241d0>]"
      ]
     },
     "execution_count": 4,
     "metadata": {},
     "output_type": "execute_result"
    },
    {
     "data": {
      "image/png": "[encoded data removed]",
      "text/plain": [
       "<Figure size 432x288 with 1 Axes>"
      ]
     },
     "metadata": {},
     "output_type": "display_data"
    }
   ],
   "source": [
    "plt.plot(dataCP)"
   ]
  },
  {
   "cell_type": "code",
   "execution_count": 5,
   "metadata": {},
   "outputs": [
    {
     "data": {
      "image/png": "[encoded data removed]",
      "text/plain": [
       "<Figure size 432x288 with 1 Axes>"
      ]
     },
     "metadata": {},
     "output_type": "display_data"
    }
   ],
   "source": [
    "fig, ax = plt.subplots()\n",
    "ax.plot(dataCP['Fecha de Inicio de síntomas'], dataCP['N° Caso'])\n",
    "plt.title('Casos Reales Confirmados')\n",
    "plt.xlabel('Fecha')\n",
    "plt.ylabel('Num de casos')\n",
    "plt.grid()\n",
    "plt.show()"
   ]
  },
  {
   "cell_type": "code",
   "execution_count": 6,
   "metadata": {},
   "outputs": [
    {
     "data": {
      "text/plain": [
       "array([[3087, Timestamp('2020-02-17 00:00:00')],\n",
       "       [4970, Timestamp('2020-02-17 00:00:00')],\n",
       "       [2456, Timestamp('2020-02-19 00:00:00')],\n",
       "       ...,\n",
       "       [1769, Timestamp('2020-04-12 00:00:00')],\n",
       "       [696, Timestamp('2020-04-12 00:00:00')],\n",
       "       [3247, Timestamp('2020-04-12 00:00:00')]], dtype=object)"
      ]
     },
     "execution_count": 6,
     "metadata": {},
     "output_type": "execute_result"
    }
   ],
   "source": [
    "dataCP.values"
   ]
  },
  {
   "cell_type": "code",
   "execution_count": 7,
   "metadata": {},
   "outputs": [
    {
     "data": {
      "text/plain": [
       "Text(0.5,1,'Distribucion Casos positivos ')"
      ]
     },
     "execution_count": 7,
     "metadata": {},
     "output_type": "execute_result"
    },
    {
     "data": {
      "image/png": "[encoded data removed]",
      "text/plain": [
       "<Figure size 432x288 with 1 Axes>"
      ]
     },
     "metadata": {},
     "output_type": "display_data"
    }
   ],
   "source": [
    "hist_CP = plt.hist(dataCP['Fecha de Inicio de síntomas'], density=True, bins=100)\n",
    "plt.xlabel('Fechas')\n",
    "plt.ylabel('Casos')\n",
    "plt.grid()\n",
    "plt.title('Distribucion Casos positivos ')"
   ]
  },
  {
   "cell_type": "code",
   "execution_count": 8,
   "metadata": {},
   "outputs": [
    {
     "data": {
      "text/html": [
       "<div>\n",
       "<style scoped>\n",
       "    .dataframe tbody tr th:only-of-type {\n",
       "        vertical-align: middle;\n",
       "    }\n",
       "\n",
       "    .dataframe tbody tr th {\n",
       "        vertical-align: top;\n",
       "    }\n",
       "\n",
       "    .dataframe thead th {\n",
       "        text-align: right;\n",
       "    }\n",
       "</style>\n",
       "<table border=\"1\" class=\"dataframe\">\n",
       "  <thead>\n",
       "    <tr style=\"text-align: right;\">\n",
       "      <th></th>\n",
       "      <th>N° Caso</th>\n",
       "      <th>Estado</th>\n",
       "      <th>Sexo</th>\n",
       "      <th>Edad</th>\n",
       "      <th>Fecha de Inicio de síntomas</th>\n",
       "      <th>Identificación de COVID-19 por RT-PCR\n",
       "en tiempo real</th>\n",
       "    </tr>\n",
       "  </thead>\n",
       "  <tbody>\n",
       "    <tr>\n",
       "      <th>0</th>\n",
       "      <td>1</td>\n",
       "      <td>GUERRERO</td>\n",
       "      <td>FEMENINO</td>\n",
       "      <td>18.0</td>\n",
       "      <td>2020-04-05</td>\n",
       "      <td>Sospechoso</td>\n",
       "    </tr>\n",
       "    <tr>\n",
       "      <th>1</th>\n",
       "      <td>2</td>\n",
       "      <td>CIUDAD DE MÉXICO</td>\n",
       "      <td>MASCULINO</td>\n",
       "      <td>33.0</td>\n",
       "      <td>2020-04-05</td>\n",
       "      <td>Sospechoso</td>\n",
       "    </tr>\n",
       "    <tr>\n",
       "      <th>2</th>\n",
       "      <td>3</td>\n",
       "      <td>MÉXICO</td>\n",
       "      <td>FEMENINO</td>\n",
       "      <td>77.0</td>\n",
       "      <td>2020-04-04</td>\n",
       "      <td>Sospechoso</td>\n",
       "    </tr>\n",
       "    <tr>\n",
       "      <th>3</th>\n",
       "      <td>4</td>\n",
       "      <td>GUANAJUATO</td>\n",
       "      <td>MASCULINO</td>\n",
       "      <td>32.0</td>\n",
       "      <td>2020-04-05</td>\n",
       "      <td>Sospechoso</td>\n",
       "    </tr>\n",
       "    <tr>\n",
       "      <th>4</th>\n",
       "      <td>5</td>\n",
       "      <td>PUEBLA</td>\n",
       "      <td>MASCULINO</td>\n",
       "      <td>45.0</td>\n",
       "      <td>2020-03-28</td>\n",
       "      <td>Sospechoso</td>\n",
       "    </tr>\n",
       "  </tbody>\n",
       "</table>\n",
       "</div>"
      ],
      "text/plain": [
       "  N° Caso            Estado       Sexo  Edad Fecha de Inicio de síntomas  \\\n",
       "0       1          GUERRERO   FEMENINO  18.0                  2020-04-05   \n",
       "1       2  CIUDAD DE MÉXICO  MASCULINO  33.0                  2020-04-05   \n",
       "2       3            MÉXICO   FEMENINO  77.0                  2020-04-04   \n",
       "3       4        GUANAJUATO  MASCULINO  32.0                  2020-04-05   \n",
       "4       5            PUEBLA  MASCULINO  45.0                  2020-03-28   \n",
       "\n",
       "  Identificación de COVID-19 por RT-PCR\\nen tiempo real  \n",
       "0                                         Sospechoso     \n",
       "1                                         Sospechoso     \n",
       "2                                         Sospechoso     \n",
       "3                                         Sospechoso     \n",
       "4                                         Sospechoso     "
      ]
     },
     "execution_count": 8,
     "metadata": {},
     "output_type": "execute_result"
    }
   ],
   "source": [
    "dataCS = pd.read_excel('/Users/ericksalazar/Desktop/Coronavirus_datos/Casos_sospechosos_COVID-19.xlsx') #CAMBIAR DIRECCION\n",
    "dataCS.head()"
   ]
  },
  {
   "cell_type": "code",
   "execution_count": 9,
   "metadata": {},
   "outputs": [
    {
     "data": {
      "text/html": [
       "<div>\n",
       "<style scoped>\n",
       "    .dataframe tbody tr th:only-of-type {\n",
       "        vertical-align: middle;\n",
       "    }\n",
       "\n",
       "    .dataframe tbody tr th {\n",
       "        vertical-align: top;\n",
       "    }\n",
       "\n",
       "    .dataframe thead th {\n",
       "        text-align: right;\n",
       "    }\n",
       "</style>\n",
       "<table border=\"1\" class=\"dataframe\">\n",
       "  <thead>\n",
       "    <tr style=\"text-align: right;\">\n",
       "      <th></th>\n",
       "      <th>N° Caso</th>\n",
       "      <th>Fecha de Inicio de síntomas</th>\n",
       "    </tr>\n",
       "  </thead>\n",
       "  <tbody>\n",
       "    <tr>\n",
       "      <th>2904</th>\n",
       "      <td>2905</td>\n",
       "      <td>2020-01-08</td>\n",
       "    </tr>\n",
       "    <tr>\n",
       "      <th>1307</th>\n",
       "      <td>1308</td>\n",
       "      <td>2020-01-22</td>\n",
       "    </tr>\n",
       "    <tr>\n",
       "      <th>3912</th>\n",
       "      <td>3913</td>\n",
       "      <td>2020-01-24</td>\n",
       "    </tr>\n",
       "    <tr>\n",
       "      <th>7134</th>\n",
       "      <td>7135</td>\n",
       "      <td>2020-01-28</td>\n",
       "    </tr>\n",
       "    <tr>\n",
       "      <th>5880</th>\n",
       "      <td>5881</td>\n",
       "      <td>2020-01-28</td>\n",
       "    </tr>\n",
       "  </tbody>\n",
       "</table>\n",
       "</div>"
      ],
      "text/plain": [
       "     N° Caso Fecha de Inicio de síntomas\n",
       "2904    2905                  2020-01-08\n",
       "1307    1308                  2020-01-22\n",
       "3912    3913                  2020-01-24\n",
       "7134    7135                  2020-01-28\n",
       "5880    5881                  2020-01-28"
      ]
     },
     "execution_count": 9,
     "metadata": {},
     "output_type": "execute_result"
    }
   ],
   "source": [
    "dataCS=dataCS.drop(columns=['Estado','Sexo','Edad','Identificación de COVID-19 por RT-PCR\\nen tiempo real'],axis=1)\n",
    "dataCS= dataCS.drop([9341,9342], axis=0)\n",
    "dataCS=dataCS.sort_values(['Fecha de Inicio de síntomas']) #ordenar fechas\n",
    "dataCS.head()"
   ]
  },
  {
   "cell_type": "code",
   "execution_count": 10,
   "metadata": {},
   "outputs": [
    {
     "data": {
      "text/plain": [
       "[<matplotlib.lines.Line2D at 0x1197c6a20>,\n",
       " <matplotlib.lines.Line2D at 0x1197c6b70>]"
      ]
     },
     "execution_count": 10,
     "metadata": {},
     "output_type": "execute_result"
    },
    {
     "data": {
      "image/png": "[encoded data removed]",
      "text/plain": [
       "<Figure size 432x288 with 1 Axes>"
      ]
     },
     "metadata": {},
     "output_type": "display_data"
    }
   ],
   "source": [
    "plt.plot(dataCS)"
   ]
  },
  {
   "cell_type": "code",
   "execution_count": 11,
   "metadata": {},
   "outputs": [
    {
     "data": {
      "image/png": "[encoded data removed]",
      "text/plain": [
       "<Figure size 432x288 with 1 Axes>"
      ]
     },
     "metadata": {},
     "output_type": "display_data"
    }
   ],
   "source": [
    "fig, ax = plt.subplots()\n",
    "ax.plot(dataCS['Fecha de Inicio de síntomas'], dataCS['N° Caso'])\n",
    "plt.title('Casos Reales Confirmados')\n",
    "plt.xlabel('Fecha')\n",
    "plt.ylabel('Num de casos')\n",
    "plt.grid()\n",
    "plt.show()"
   ]
  },
  {
   "cell_type": "code",
   "execution_count": 12,
   "metadata": {},
   "outputs": [
    {
     "data": {
      "text/plain": [
       "Text(0.5,1,'Distribucion casos positivos sospechosos')"
      ]
     },
     "execution_count": 12,
     "metadata": {},
     "output_type": "execute_result"
    },
    {
     "data": {
      "image/png": "[encoded data removed]",
      "text/plain": [
       "<Figure size 432x288 with 1 Axes>"
      ]
     },
     "metadata": {},
     "output_type": "display_data"
    }
   ],
   "source": [
    "hist_CS = plt.hist(dataCS['Fecha de Inicio de síntomas'], density=True, bins=100)\n",
    "plt.xlabel('Fechas')\n",
    "plt.ylabel('Casos')\n",
    "plt.grid()\n",
    "plt.title('Distribucion casos positivos sospechosos')"
   ]
  },
  {
   "cell_type": "code",
   "execution_count": null,
   "metadata": {},
   "outputs": [],
   "source": []
  }
 ],
 "metadata": {
  "kernelspec": {
   "display_name": "Python 3",
   "language": "python",
   "name": "python3"
  },
  "language_info": {
   "codemirror_mode": {
    "name": "ipython",
    "version": 3
   },
   "file_extension": ".py",
   "mimetype": "text/x-python",
   "name": "python",
   "nbconvert_exporter": "python",
   "pygments_lexer": "ipython3",
   "version": "3.6.5"
  }
 },
 "nbformat": 4,
 "nbformat_minor": 2
}
