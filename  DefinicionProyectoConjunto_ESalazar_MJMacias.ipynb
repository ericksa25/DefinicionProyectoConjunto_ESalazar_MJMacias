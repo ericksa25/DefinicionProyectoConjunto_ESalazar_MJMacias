{
 "cells": [
  {
   "cell_type": "markdown",
   "metadata": {},
   "source": [
    "<img style=\"float: left; margin: 30px 15px 15px 15px;\" src=\"https://pngimage.net/wp-content/uploads/2018/06/logo-iteso-png-5.png\" width=\"300\" height=\"500\" /> \n",
    "    \n",
    "    \n",
    "## <font color='navy'> SIMULACIÓN DE PROCESOS FINANCIEROS   \n",
    "\n",
    "**Nombres:** \n",
    "María José Macías García y Erick Salazar Hernández \n",
    "\n",
    "**Fecha:** 24 de marzo del 2020.\n",
    "\n",
    "**Expediente** : 717922 y 714391.\n",
    "\n",
    "**Profesor:** Oscar David Jaramillo Zuluaga.\n",
    "\n",
    "**Enlace Github:** https://github.com/ericksa25/DefinicionProyectoConjunto_ESalazar_MJMacias\n",
    "\n",
    "# Definición de Proyecto  Clase: 12"
   ]
  },
  {
   "cell_type": "markdown",
   "metadata": {},
   "source": [
    "# <font color='darkgreen'>\"Simulación de Casos de COVID-19 en México dentro de tres meses\""
   ]
  },
  {
   "cell_type": "markdown",
   "metadata": {},
   "source": [
    "# indicaciones:\n",
    "\n",
    "**Usando el archivo 'GuiaProyecto'**\n",
    "\n",
    "1) Definición del problema, se debe describir en un documento, con extensión máxima de dos cuartillas, y mínimo de una cuartilla, ¿cuál es el escenario de negocio que se va a modelar?, identificar cuáles son los supuestos que defines en el negocio y cuáles son los \"nodos\" o \"escenarios\" que identificas necesarios simular y porqué. Debes elaborar un diagrama de inicio a fin, identificando los \"nodos\" o \"escenarios\" a simular.\n",
    "\n",
    "2) En el documento se deben indicar los miembros del equipo que trabajarán"
   ]
  },
  {
   "cell_type": "markdown",
   "metadata": {},
   "source": [
    "<img style=\"float: right; margin: 0px 10px 15px 15px;\" src=\"https://www.isglobal.org/documents/10179/7759027/Coronavirus+SARS-CoV-2+de+CDC+en+Unsplash/6e5e7633-4ed9-484b-a95f-34195e55e142?t=1584534061000\" width=\"350px\" height=\"700px\" />Vivimos en un mundo globalizado donde las decisiones que se toman en el ambito politico, economico y social, no son excluyentes del impacto que pueden causar en nuestra sociedad, desde decisiones politicas en Estados Unidos hasta manifestaciones en Chile, el impacto que esto genera a otros países es mas grande de lo que podemos pensar. \n",
    "\n",
    "Actualmente estamos pasando por una crisis de salud a nivel mundial, esto se debe a que a finales del 2019 se comenzó a porpagar un virus que hoy en día es conocido como Coronavirus COVID-19. Este virus tuvo su origen en la ciudad de Wuhan, Hubei, China por razones que aun no logran ser confirmadas pero el *murciélago grande de herradura chino* es el sospechoso número uno de ser el origen del brote de coronavirus. \n",
    "\n",
    "<img style=\"float: left; margin: 15px 15px 15px 15px;\" src=\"https://ichef.bbci.co.uk/news/660/cpsprodpb/11A8A/production/_110803327_1-1.jpg\" width=\"350px\" height=\"700px\" />\n",
    "\n",
    "Estos animales ya habían sido el origen de otras epidemias de coronavirus, en este caso todo apunta que ellos son los causantes de la transmisión del *Sindrome Agudo Respiratorio Severo* **SARS**, con 417.000 casos de personas infectadas y más de 18.700 muertes en 185 países.\n",
    "\n",
    "Es por eso que el proyecto que queremos generar es sobre como el COVID-19 tuvo su propagación y como llego a convertirse en una pandemia, esto con ayuda de la simulación. Lo que nosotros queremos mostrar es cual sera el escenario en el que nos vamos a encontrar dentro de tres meses aquí en México si la gente sigue las recomendaciones de quedarse en sus casas para no propagar más el virus y hacer una comparación con el escenario donde la gente no sigue estas recomendaciones y sigue saliendo a la calle propagando mas este virus que es el COVID-19.\n",
    "\n",
    "Nuestras simulaciones se van a basar en los datos obtenidos de la página oficial de la Organización Mundial de la Salud (*OMS*) https://www.who.int/emergencies/diseases/novel-coronavirus-2019/situation-reports/, donde publican día a día los nuevos casos y las muertes registradas por este virus de cada país, pero nosotros solo basandonos en la información que hay de México."
   ]
  },
  {
   "cell_type": "markdown",
   "metadata": {},
   "source": [
    "<img style=\"float: right; margin: 0px 0px 15px 15px;\" src=\"blob:https://web.whatsapp.com/aa647c3f-8a2e-4321-8e49-e79389af4623\" width=\"300px\" height=\"100px\" />"
   ]
  },
  {
   "cell_type": "markdown",
   "metadata": {},
   "source": [
    "<img style=\"float: right; margin: 0px 0px 15px 15px;\" src=\"diagrama.jpeg\" width=\"300px\" height=\"100px\" />"
   ]
  },
  {
   "cell_type": "markdown",
   "metadata": {},
   "source": [
    "<img style=\"float: right; margin: 0px 0px 15px 15px;\" src=\"file:///Users/ericksalazar/Desktop/diagrama.jpeg\" width=\"300px\" height=\"100px\" />"
   ]
  },
  {
   "cell_type": "markdown",
   "metadata": {},
   "source": [
    "## <font color='darkcyan'>HIPOTESIS:\n",
    "\n",
    "* En tres meses habra menos casos de COVID-19 en México si se siguen las recomendaciones de los sistemas de salud, como el aislamiento social."
   ]
  },
  {
   "cell_type": "markdown",
   "metadata": {},
   "source": [
    "## <font color='cornflowerblue'>SUPUESTOS:\n",
    "\n",
    "* No existe cura para este tipo de enfermedad, solamente existen formas de disminuir la propagación.\n",
    "* La simulación es de un solo país, no de todo el mundo. \n"
   ]
  },
  {
   "cell_type": "markdown",
   "metadata": {},
   "source": [
    "## OBTENCIÓN DE DATOS:\n",
    "- Tomando como principal fuente de datos los \"Coronavirus disease (COVID-2019) situation reports\" de la Organización mundial de la salud (OMS), para esto trasladaremos todos los reportes correspondientes del incremento de los casos en un solo país, en este caso México, a un excel.\n",
    "- Por ahora sabemos que el comportamiento de la propagación de una pandemia es de forma exponencial conforme pasa el tiempo, esto tomando como referencia países que ya están en un estado alarmante de propagación de pandemia como es el caso de España e Italia, además de esto\n"
   ]
  },
  {
   "cell_type": "markdown",
   "metadata": {},
   "source": [
    "<img style=\"float: right; margin: 0px 0px 15px 15px;\" src=\"https://upload.wikimedia.org/wikipedia/commons/b/b6/Proyecto_en_construccion.jpg\" width=\"300px\" height=\"100px\" />\n",
    "\n",
    "\n",
    "# Proyecto Módulo 2- Guía.\n",
    "> Se especifican los componentes básicos que deberá tener cada proyecto. El proyecto debe ser un problema que utilice datos reales, ya sea de una empresa física real o de alguna página de internet que proporcione bases de datos confiables. Con la información obtenida, se pretende utilizar todas las herramientas vistas durante el curso para la correcta modelación y simulación del cierto problema con ciertas variables de interés."
   ]
  },
  {
   "cell_type": "markdown",
   "metadata": {},
   "source": [
    "## 1. Entregable.\n",
    "Los trabajos deben tener los siguientes componentes básicos.\n",
    "\n",
    "### 1.1 Título del trabajo.\n",
    "> Debe describir el trabajo.\n",
    "\n",
    "### 1.2 Objetivos.\n",
    "> - Se refieren a los propósitos por los cuales se hace el trabajo.\n",
    "> - Deben ser concretos, evaluables y verificables.\n",
    "> - Deben ser escritos en infinitivo.\n",
    "> #### 1.1 Objetivo general.\n",
    ">  - Fin último de estudio. Se formula atendiendo el propósito global del trabajo. No presenta detalles.\n",
    ">  - Se orienta a la totalidad del trabajo. Tiene que ver con el título del trabajo.\n",
    "> #### 1.2 Objetivos específicos\n",
    ">  - De forma detallada describen cada una de los componentes del trabajo.\n",
    ">  - En conjunto garantizan la consecución del objetivo general.\n",
    "\n",
    "Referencia:\n",
    "- https://es.slideshare.net/rosbur/metodologia-objetivos-generales-y-especficos\n",
    "\n",
    "### 1.3 Definición del problema.\n",
    "> Se debe describir en una cuartilla máximo cuál es el escenario de negocio que se va a modelar, identificar cuáles son los supuestos que defines en el negocio y cuáles son los \"nodos\" o \"escenarios\" que identificas necesarios simular y porqué. Debes elaborar un diagrama de inicio a fin, identificando los \"nodos\" o \"escenarios\" a simular.\n",
    "\n",
    "### 1.4 Nodos y variables que se decidieron simular y porqué\n",
    "> En este apartado el objetivo es identificar los problemas que se van a abordar, para examinar la factibilidad y viabilidad de la simulación de los nodos escogidos. Posteriormente se debe de argumentar del porqué de los nodos escogidos.\n",
    "\n",
    "### 1.5 Definición de hipótesis y supuestos.\n",
    ">  Para poder modelar un proceso de negocio o cualquiera otro proceso en el área de las ingenierías o ciencias sociales, después de identificar el objeto de estudio, es importante indicar cuales son los supuestos que se dan por verdaderos a lo largo de la ejecución del proceso. Estos supuestos se deben indicar en forma de variables e hipótesis (son diferentes), porque si puedes definir en un valor el supuesto lo llamaremos \"supuesto constante\" y si no es posible identificarlo con un número entonces será una hipótesis que afectará la construcción de los escenarios posibles del proceso.\n",
    "\n",
    "### 1.6 Obtención de bases de datos\n",
    "> El tercer paso del proyecto es indicar de dónde se obtendrán las bases de datos, que indican como se han comportado las variables que identificaste en tu proceso de negocio que vas a simular. En esta investigación debes haber encontrado información propia de la empresa, organización o institución que vas a simular y otra parte de la información debe provenir de investigación que realices en fuentes de información públicas o privadas como las que tiene SECOBI, ahí normalmente y dependiendo del problema elegido, se investigan variables económicas, como tasas de interés, inflación, tipo de cambio, etc., de varios años, por poner un ejemplo.\n",
    "\n",
    "### 1.7 Visualización de resultados de simulación.\n",
    "> Se deben simular al menos 4  \"nodos\" o \"escenarios\" en tu problema. Para la segunda entrega debes haber elaborado un programa que simule dos de ellos, los primeros dos de tu diagrama.\n",
    "> Para la entrega final deben de tener los 4 nodos con todas sus simulaciones.\n",
    "\n",
    "### 1.6 Conclusiones.\n",
    "> Mucho cuidado, las conclusiones no son cualquier cosa. Se debe concluir respecto a los objetivos planteados de acuerdo a los resultados obtenidos.\n",
    "\n",
    "### 1.7 Referencias.\n",
    "> Citar (en formato APA) la bibliografía utilizada."
   ]
  },
  {
   "cell_type": "markdown",
   "metadata": {},
   "source": [
    "## 2. Especificaciones adicionales.\n",
    "En el grupo deben haber mínimo dos integrantes y máximo tres integrantes. Para propósitos logísticos nada más, por favor enumérense como *integrante 1*, *integrante 2* e *integrante 3*.\n",
    "\n",
    "### 2.1 Notebook de jupyter. \n",
    "> Los anteriores numerales los deben desarrollar todos en un notebook de jupyter y llamarlo de la siguiente manera `ProyectoModulo1_ApellidoN1_ApellidoN2_ApellidoN3`, donde `ApellidoNi` hace referencia al apellido materno y la inicial del primer nombre del integrante `i`.\n",
    "\n",
    "### 2.2 Proyecto en `GitHub`.\n",
    "> El integrante 1 deberá crear un proyecto en `GitHub` llamado **proyecto_modulo1**, donde tendrán todos los archivos relacionados con el proyecto. Los demás integrantes deben hacer un *fork* del proyecto, seguir el proyecto principal con `GitKraken` y hacer al menos dos contribuciones con *pull request* (como se hizo en la tarea). En el proyecto, deben incluir el repositorio remoto del integrante 1.\n",
    "\n",
    "### 2.3 Presentación.\n",
    "> Recuerden que la nota del proyecto es mitad el trabajo, y mitad la presentación. Deben hacer una presentación ya sea en power point o utlizando un notebook de python para presentar el trabajo durante un horario de clase que se será posteriomente definido. La presentación, además de llevar todos los componentes básicos descritos en el entregable, debe llevar una tabla de contenido.\n",
    "> - Presentación: 10 minutos.\n",
    "> - Seguir estas recomendaciones: https://es.slideshare.net/MeireComputacion/power-point-pautas-para-una-buen-trabajo"
   ]
  },
  {
   "cell_type": "code",
   "execution_count": null,
   "metadata": {},
   "outputs": [],
   "source": []
  }
 ],
 "metadata": {
  "kernelspec": {
   "display_name": "Python 3",
   "language": "python",
   "name": "python3"
  },
  "language_info": {
   "codemirror_mode": {
    "name": "ipython",
    "version": 3
   },
   "file_extension": ".py",
   "mimetype": "text/x-python",
   "name": "python",
   "nbconvert_exporter": "python",
   "pygments_lexer": "ipython3",
   "version": "3.7.4"
  }
 },
 "nbformat": 4,
 "nbformat_minor": 2
}
